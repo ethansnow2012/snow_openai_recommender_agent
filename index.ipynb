{
 "cells": [
  {
   "cell_type": "code",
   "execution_count": 55,
   "metadata": {},
   "outputs": [],
   "source": [
    "# Set up the client\n",
    "from openai import OpenAI\n",
    "from dotenv import load_dotenv\n",
    "import os\n",
    "import requests\n",
    "import time\n",
    "\n",
    "load_dotenv()  # take environment variables from .env.\n",
    "\n",
    "assistant_id = os.getenv(\"ASSISTANT_ID\")\n",
    "server_url = os.getenv(\"SERVER_URL\")\n",
    "client = OpenAI(api_key=os.getenv(\"OPEN_AI_KEY\"))\n"
   ]
  },
  {
   "cell_type": "code",
   "execution_count": 56,
   "metadata": {},
   "outputs": [
    {
     "data": {
      "text/plain": [
       "'[{\"id\": \"ethansnow2012\", \"content\": \"Skip to content\\\\nethansnow2012\\\\nOverview\\\\nRepositories\\\\n54\\\\nProjects\\\\nPackages\\\\nStars\\\\n48\\\\nSet status\\\\nethansnow2012\\\\nEdit profile\\\\n 3 followers \\\\u00b7 10 following\\\\nAchievements\\\\nx3\\\\nBetaSend feedback\\\\nOrganizations\\\\nethansnow2012/README.md\\\\nHi there \\\\ud83d\\\\udc4b\\\\n\\\\ud83d\\\\udd2d I\\\\u2019m currently working on (Frontend Development|Product Strategy).\\\\n\\\\ud83d\\\\ude38 I\\\\u2019m tying to build a SaaS as an experiment for myself. Beta Production: Live Demo Demo: Figma Business Discussion: Figjam\\\\n\\\\ud83d\\\\udd2d I\\\\u2019m looking for job opportunities. About me: Cakeresume\\\\n\\\\n\\\\nRecently working on:\\\\nCodeBase Export Tool for Ai: CodeBaseJson\\\\nSaaS Platform for Larps: \\\\u7dad\\\\u514b\\\\u591a\\\\u9152\\\\u5427\\\\n\\\\n\\\\nMy Gist\\\\n\\\\nhttps://gist.github.com/ethansnow2012\\\\n\\\\nCustomize your pins\\\\nPinned\\\\n CodeBaseJson Public\\\\n\\\\nParse your code base to Json so that Ai can read it.\\\\n\\\\n TypeScript  1\\\\n\\\\nContribution settings \\\\n751 contributions in the last year\\\\nContribution Graph\\\\nDay of Week\\\\n\\\\t\\\\nApril\\\\nApr\\\\n\\\\t\\\\nMay\\\\nMay\\\\n\\\\t\\\\nJune\\\\nJun\\\\n\\\\t\\\\nJuly\\\\nJul\\\\n\\\\t\\\\nAugust\\\\nAug\\\\n\\\\t\\\\nSeptember\\\\nSep\\\\n\\\\t\\\\nOctober\\\\nOct\\\\n\\\\t\\\\nNovember\\\\nNov\\\\n\\\\t\\\\nDecember\\\\nDec\\\\n\\\\t\\\\nJanuary\\\\nJan\\\\n\\\\t\\\\nFebruary\\\\nFeb\\\\n\\\\t\\\\nMarch\\\\nMar\\\\n\\\\n\\\\nSunday\\\\nSun\\\\n\\\\t\\\\t\\\\t\\\\t\\\\t\\\\t\\\\t\\\\t\\\\t\\\\t\\\\t\\\\t\\\\t\\\\t\\\\t\\\\t\\\\t\\\\t\\\\t\\\\t\\\\t\\\\t\\\\t\\\\t\\\\t\\\\t\\\\t\\\\t\\\\t\\\\t\\\\t\\\\t\\\\t\\\\t\\\\t\\\\t\\\\t\\\\t\\\\t\\\\t\\\\t\\\\t\\\\t\\\\t\\\\t\\\\t\\\\t\\\\t\\\\t\\\\t\\\\t\\\\t\\\\t\\\\n\\\\nMonday\\\\nMon\\\\n\\\\t\\\\t\\\\t\\\\t\\\\t\\\\t\\\\t\\\\t\\\\t\\\\t\\\\t\\\\t\\\\t\\\\t\\\\t\\\\t\\\\t\\\\t\\\\t\\\\t\\\\t\\\\t\\\\t\\\\t\\\\t\\\\t\\\\t\\\\t\\\\t\\\\t\\\\t\\\\t\\\\t\\\\t\\\\t\\\\t\\\\t\\\\t\\\\t\\\\t\\\\t\\\\t\\\\t\\\\t\\\\t\\\\t\\\\t\\\\t\\\\t\\\\t\\\\t\\\\t\\\\t\\\\n\\\\nTuesday\\\\nTue\\\\n\\\\t\\\\t\\\\t\\\\t\\\\t\\\\t\\\\t\\\\t\\\\t\\\\t\\\\t\\\\t\\\\t\\\\t\\\\t\\\\t\\\\t\\\\t\\\\t\\\\t\\\\t\\\\t\\\\t\\\\t\\\\t\\\\t\\\\t\\\\t\\\\t\\\\t\\\\t\\\\t\\\\t\\\\t\\\\t\\\\t\\\\t\\\\t\\\\t\\\\t\\\\t\\\\t\\\\t\\\\t\\\\t\\\\t\\\\t\\\\t\\\\t\\\\t\\\\t\\\\t\\\\t\\\\n\\\\nWednesday\\\\nWed\\\\n\\\\t\\\\t\\\\t\\\\t\\\\t\\\\t\\\\t\\\\t\\\\t\\\\t\\\\t\\\\t\\\\t\\\\t\\\\t\\\\t\\\\t\\\\t\\\\t\\\\t\\\\t\\\\t\\\\t\\\\t\\\\t\\\\t\\\\t\\\\t\\\\t\\\\t\\\\t\\\\t\\\\t\\\\t\\\\t\\\\t\\\\t\\\\t\\\\t\\\\t\\\\t\\\\t\\\\t\\\\t\\\\t\\\\t\\\\t\\\\t\\\\t\\\\t\\\\t\\\\t\\\\t\\\\n\\\\nThursday\\\\nThu\\\\n\\\\t\\\\t\\\\t\\\\t\\\\t\\\\t\\\\t\\\\t\\\\t\\\\t\\\\t\\\\t\\\\t\\\\t\\\\t\\\\t\\\\t\\\\t\\\\t\\\\t\\\\t\\\\t\\\\t\\\\t\\\\t\\\\t\\\\t\\\\t\\\\t\\\\t\\\\t\\\\t\\\\t\\\\t\\\\t\\\\t\\\\t\\\\t\\\\t\\\\t\\\\t\\\\t\\\\t\\\\t\\\\t\\\\t\\\\t\\\\t\\\\t\\\\t\\\\t\\\\t\\\\t\\\\n\\\\nFriday\\\\nFri\\\\n\\\\t\\\\t\\\\t\\\\t\\\\t\\\\t\\\\t\\\\t\\\\t\\\\t\\\\t\\\\t\\\\t\\\\t\\\\t\\\\t\\\\t\\\\t\\\\t\\\\t\\\\t\\\\t\\\\t\\\\t\\\\t\\\\t\\\\t\\\\t\\\\t\\\\t\\\\t\\\\t\\\\t\\\\t\\\\t\\\\t\\\\t\\\\t\\\\t\\\\t\\\\t\\\\t\\\\t\\\\t\\\\t\\\\t\\\\t\\\\t\\\\t\\\\t\\\\t\\\\t\\\\t\\\\n\\\\nSaturday\\\\nSat\\\\n\\\\t\\\\t\\\\t\\\\t\\\\t\\\\t\\\\t\\\\t\\\\t\\\\t\\\\t\\\\t\\\\t\\\\t\\\\t\\\\t\\\\t\\\\t\\\\t\\\\t\\\\t\\\\t\\\\t\\\\t\\\\t\\\\t\\\\t\\\\t\\\\t\\\\t\\\\t\\\\t\\\\t\\\\t\\\\t\\\\t\\\\t\\\\t\\\\t\\\\t\\\\t\\\\t\\\\t\\\\t\\\\t\\\\t\\\\t\\\\t\\\\t\\\\t\\\\t\\\\t\\\\t\\\\nLearn how we count contributions\\\\nLess\\\\nNo contributions.\\\\nLow contributions.\\\\nMedium-low contributions.\\\\nMedium-high contributions.\\\\nHigh contributions.\\\\nMore\\\\nYear: 2024\\\\nContribution activity\\\\nApril 2024\\\\nethansnow2012 has no activity yet for this period.\\\\nShow more activity\\\\n\\\\nSeeing something unexpected? Take a look at the GitHub profile guide.\\\\n\\\\nFooter\\\\n\\\\u00a9 2024 GitHub,\\\\u00a0Inc.\\\\nFooter navigation\\\\nTerms\\\\nPrivacy\\\\nSecurity\\\\nStatus\\\\nDocs\\\\nContact\\\\nManage cookies\\\\nDo not share my personal information\"}, {\"id\": \"yyx990803\", \"content\": \"Skip to content\\\\nyyx990803\\\\nOverview\\\\nRepositories\\\\n190\\\\nProjects\\\\nPackages\\\\nStars\\\\n806\\\\nSponsoring\\\\n11\\\\nEvan You\\\\nyyx990803\\\\n Sponsor\\\\nHusband, father of two, independent OSS dev. @vuejs, @vitejs, @rolldown, and more. Connoisseur of sushi.\\\\n 98.7k followers \\\\u00b7 95 following\\\\nFollowed by antfu and 1 more\\\\nSingapore\\\\nhttp://evanyou.me\\\\n@youyuxi\\\\nSponsors\\\\n+219\\\\nSponsoring\\\\nAchievements\\\\nx3\\\\nx4\\\\nx3\\\\nx4\\\\nBetaSend feedback\\\\nOrganizations\\\\n   \\\\nBlock or Report\\\\nPinned\\\\n vuejs/core Public\\\\n\\\\n\\\\ud83d\\\\udd96 Vue.js is a progressive, incrementally-adoptable JavaScript framework for building UI on the web.\\\\n\\\\n TypeScript  44.2k  7.8k\\\\n\\\\n vitejs/vite Public\\\\n\\\\nNext generation frontend tooling. It\\'s fast!\\\\n\\\\n TypeScript  64.3k  5.7k\\\\n\\\\n vuejs/vitepress Public\\\\n\\\\nVite & Vue powered static site generator.\\\\n\\\\n TypeScript  11k  1.8k\\\\n\\\\n rolldown/rolldown Public\\\\n\\\\nFast Rust bundler for JavaScript with Rollup-compatible API.\\\\n\\\\n Rust  6.3k  368\\\\n\\\\n vuejs/vue Public\\\\n\\\\nThis is the repo for Vue 2. For Vue 3, go to https://github.com/vuejs/core\\\\n\\\\n TypeScript  207k  33.6k\\\\n\\\\n vuejs/petite-vue Public\\\\n\\\\n6kb subset of Vue optimized for progressive enhancement\\\\n\\\\n TypeScript  8.7k  349\\\\n\\\\n2,194 contributions in the last year\\\\nContribution Graph\\\\nDay of Week\\\\n\\\\t\\\\nApril\\\\nApr\\\\n\\\\t\\\\nMay\\\\nMay\\\\n\\\\t\\\\nJune\\\\nJun\\\\n\\\\t\\\\nJuly\\\\nJul\\\\n\\\\t\\\\nAugust\\\\nAug\\\\n\\\\t\\\\nSeptember\\\\nSep\\\\n\\\\t\\\\nOctober\\\\nOct\\\\n\\\\t\\\\nNovember\\\\nNov\\\\n\\\\t\\\\nDecember\\\\nDec\\\\n\\\\t\\\\nJanuary\\\\nJan\\\\n\\\\t\\\\nFebruary\\\\nFeb\\\\n\\\\t\\\\nMarch\\\\nMar\\\\n\\\\n\\\\nSunday\\\\nSun\\\\n\\\\t\\\\t\\\\t\\\\t\\\\t\\\\t\\\\t\\\\t\\\\t\\\\t\\\\t\\\\t\\\\t\\\\t\\\\t\\\\t\\\\t\\\\t\\\\t\\\\t\\\\t\\\\t\\\\t\\\\t\\\\t\\\\t\\\\t\\\\t\\\\t\\\\t\\\\t\\\\t\\\\t\\\\t\\\\t\\\\t\\\\t\\\\t\\\\t\\\\t\\\\t\\\\t\\\\t\\\\t\\\\t\\\\t\\\\t\\\\t\\\\t\\\\t\\\\t\\\\t\\\\t\\\\n\\\\nMonday\\\\nMon\\\\n\\\\t\\\\t\\\\t\\\\t\\\\t\\\\t\\\\t\\\\t\\\\t\\\\t\\\\t\\\\t\\\\t\\\\t\\\\t\\\\t\\\\t\\\\t\\\\t\\\\t\\\\t\\\\t\\\\t\\\\t\\\\t\\\\t\\\\t\\\\t\\\\t\\\\t\\\\t\\\\t\\\\t\\\\t\\\\t\\\\t\\\\t\\\\t\\\\t\\\\t\\\\t\\\\t\\\\t\\\\t\\\\t\\\\t\\\\t\\\\t\\\\t\\\\t\\\\t\\\\t\\\\t\\\\n\\\\nTuesday\\\\nTue\\\\n\\\\t\\\\t\\\\t\\\\t\\\\t\\\\t\\\\t\\\\t\\\\t\\\\t\\\\t\\\\t\\\\t\\\\t\\\\t\\\\t\\\\t\\\\t\\\\t\\\\t\\\\t\\\\t\\\\t\\\\t\\\\t\\\\t\\\\t\\\\t\\\\t\\\\t\\\\t\\\\t\\\\t\\\\t\\\\t\\\\t\\\\t\\\\t\\\\t\\\\t\\\\t\\\\t\\\\t\\\\t\\\\t\\\\t\\\\t\\\\t\\\\t\\\\t\\\\t\\\\t\\\\t\\\\n\\\\nWednesday\\\\nWed\\\\n\\\\t\\\\t\\\\t\\\\t\\\\t\\\\t\\\\t\\\\t\\\\t\\\\t\\\\t\\\\t\\\\t\\\\t\\\\t\\\\t\\\\t\\\\t\\\\t\\\\t\\\\t\\\\t\\\\t\\\\t\\\\t\\\\t\\\\t\\\\t\\\\t\\\\t\\\\t\\\\t\\\\t\\\\t\\\\t\\\\t\\\\t\\\\t\\\\t\\\\t\\\\t\\\\t\\\\t\\\\t\\\\t\\\\t\\\\t\\\\t\\\\t\\\\t\\\\t\\\\t\\\\t\\\\n\\\\nThursday\\\\nThu\\\\n\\\\t\\\\t\\\\t\\\\t\\\\t\\\\t\\\\t\\\\t\\\\t\\\\t\\\\t\\\\t\\\\t\\\\t\\\\t\\\\t\\\\t\\\\t\\\\t\\\\t\\\\t\\\\t\\\\t\\\\t\\\\t\\\\t\\\\t\\\\t\\\\t\\\\t\\\\t\\\\t\\\\t\\\\t\\\\t\\\\t\\\\t\\\\t\\\\t\\\\t\\\\t\\\\t\\\\t\\\\t\\\\t\\\\t\\\\t\\\\t\\\\t\\\\t\\\\t\\\\t\\\\t\\\\n\\\\nFriday\\\\nFri\\\\n\\\\t\\\\t\\\\t\\\\t\\\\t\\\\t\\\\t\\\\t\\\\t\\\\t\\\\t\\\\t\\\\t\\\\t\\\\t\\\\t\\\\t\\\\t\\\\t\\\\t\\\\t\\\\t\\\\t\\\\t\\\\t\\\\t\\\\t\\\\t\\\\t\\\\t\\\\t\\\\t\\\\t\\\\t\\\\t\\\\t\\\\t\\\\t\\\\t\\\\t\\\\t\\\\t\\\\t\\\\t\\\\t\\\\t\\\\t\\\\t\\\\t\\\\t\\\\t\\\\t\\\\t\\\\n\\\\nSaturday\\\\nSat\\\\n\\\\t\\\\t\\\\t\\\\t\\\\t\\\\t\\\\t\\\\t\\\\t\\\\t\\\\t\\\\t\\\\t\\\\t\\\\t\\\\t\\\\t\\\\t\\\\t\\\\t\\\\t\\\\t\\\\t\\\\t\\\\t\\\\t\\\\t\\\\t\\\\t\\\\t\\\\t\\\\t\\\\t\\\\t\\\\t\\\\t\\\\t\\\\t\\\\t\\\\t\\\\t\\\\t\\\\t\\\\t\\\\t\\\\t\\\\t\\\\t\\\\t\\\\t\\\\t\\\\t\\\\t\\\\nLearn how we count contributions\\\\nLess\\\\nNo contributions.\\\\nLow contributions.\\\\nMedium-low contributions.\\\\nMedium-high contributions.\\\\nHigh contributions.\\\\nMore\\\\n @vuejs\\\\n @vuejs-translations\\\\n @vitejs\\\\n More\\\\nActivity overview\\\\nContributed to vuejs/core, vuejs/core-vapor, vuejs-translations/docs-zh-cn and 50 other repositories\\\\n3%\\\\nCode review\\\\n1%\\\\nIssues\\\\n1%\\\\nPull requests\\\\n95%\\\\nCommits\\\\nYear: 2024\\\\nContribution activity\\\\nApril 2024\\\\nCreated 1 commit in 1 repository\\\\nrolldown/rolldown\\\\n1 commit\\\\nCreated 1 repository\\\\n yyx990803/proposal-signals\\\\n TypeScript\\\\nThis contribution was made on Apr 1\\\\nApr 1\\\\nCreated a pull request in proposal-signals/proposal-signals that received 2 comments\\\\nApr 1\\\\nfix(polyfill): missing self argument for Watcher notify callback type\\\\n\\\\nnew Signal.subtle.Watcher(self => { // ^ this currently lacks type });\\\\n\\\\n+1 \\\\u22121  lines changed \\\\u2022\\\\n2 comments\\\\nCreated an issue in sapphi-red/parallel-js-plugin-experiment that received 5 comments\\\\nApr 1\\\\nThoughts on thread-unsafe plugin usage patterns\\\\n\\\\nContext: https://github.com/sapphi-red/parallel-js-plugin-experiment/blob/main/research-for-design.md It\\'s great that many common caes can be sol\\\\u2026\\\\n\\\\n5 comments\\\\n1 contribution in private repositories\\\\nApr 1\\\\nShow more activity\\\\n\\\\nSeeing something unexpected? Take a look at the GitHub profile guide.\\\\n\\\\nFooter\\\\n\\\\u00a9 2024 GitHub,\\\\u00a0Inc.\\\\nFooter navigation\\\\nTerms\\\\nPrivacy\\\\nSecurity\\\\nStatus\\\\nDocs\\\\nContact\\\\nManage cookies\\\\nDo not share my personal information\"}, {\"id\": \"antfu\", \"content\": \"\\'Skip to content\\\\nantfu\\\\nOverview\\\\nRepositories\\\\n336\\\\nProjects\\\\nPackages\\\\nStars\\\\n1.6k\\\\nSponsoring\\\\n17\\\\nAnthony Fu\\\\nantfu \\\\u00b7 he/him\\\\n Sponsor\\\\nA ship in harbor is safe, but that is not what ships are built for.\\\\n 29.2k followers \\\\u00b7 343 following\\\\nFollowed by mesak and 1 more\\\\n@nuxt\\\\nundefined\\\\n12:40 - 6h behind\\\\nhi@antfu.me\\\\nhttps://antfu.me\\\\n@antfu@m.webtoo.ls\\\\n@antfu7\\\\nantfu7\\\\nc/AnthonyFu7\\\\nSponsors\\\\n+240\\\\nSponsoring\\\\n+4\\\\nAchievements\\\\nx4\\\\nx4\\\\nx4\\\\nx4\\\\nBetaSend feedback\\\\nOrganizations\\\\n                           \\\\nBlock or Report\\\\nantfu/README.md\\\\n\\\\nme . blog . projects . talks . podcasts . compform . mastodon . tweets . discord . instagram . sponsor\\\\n\\\\nPinned\\\\n nuxt/nuxt Public\\\\n\\\\nThe Intuitive Vue Framework.\\\\n\\\\n TypeScript  51.6k  4.7k\\\\n\\\\n vitest-dev/vitest Public\\\\n\\\\nNext generation testing framework powered by Vite.\\\\n\\\\n TypeScript  11.7k  1k\\\\n\\\\n slidevjs/slidev Public\\\\n\\\\nPresentation Slides for Developers\\\\n\\\\n TypeScript  30.9k  1.2k\\\\n\\\\n unocss/unocss Public\\\\n\\\\nThe instant on-demand atomic CSS engine.\\\\n\\\\n TypeScript  15.3k  755\\\\n\\\\n nuxt/devtools Public\\\\n\\\\nUnleash Nuxt Developer Experience\\\\n\\\\n Vue  2.7k  146\\\\n\\\\n vueuse/vueuse Public\\\\n\\\\nCollection of essential Vue Composition Utilities for Vue 2 and 3\\\\n\\\\n TypeScript  18.6k  2.3k\\\\n\\\\n8,479 contributions in the last year\\\\nContribution Graph\\\\nDay of Week\\\\n\\\\t\\\\nApril\\\\nApr\\\\n\\\\t\\\\nMay\\\\nMay\\\\n\\\\t\\\\nJune\\\\nJun\\\\n\\\\t\\\\nJuly\\\\nJul\\\\n\\\\t\\\\nAugust\\\\nAug\\\\n\\\\t\\\\nSeptember\\\\nSep\\\\n\\\\t\\\\nOctober\\\\nOct\\\\n\\\\t\\\\nNovember\\\\nNov\\\\n\\\\t\\\\nDecember\\\\nDec\\\\n\\\\t\\\\nJanuary\\\\nJan\\\\n\\\\t\\\\nFebruary\\\\nFeb\\\\n\\\\t\\\\nMarch\\\\nMar\\\\n\\\\n\\\\nSunday\\\\nSun\\\\n\\\\t\\\\t\\\\t\\\\t\\\\t\\\\t\\\\t\\\\t\\\\t\\\\t\\\\t\\\\t\\\\t\\\\t\\\\t\\\\t\\\\t\\\\t\\\\t\\\\t\\\\t\\\\t\\\\t\\\\t\\\\t\\\\t\\\\t\\\\t\\\\t\\\\t\\\\t\\\\t\\\\t\\\\t\\\\t\\\\t\\\\t\\\\t\\\\t\\\\t\\\\t\\\\t\\\\t\\\\t\\\\t\\\\t\\\\t\\\\t\\\\t\\\\t\\\\t\\\\t\\\\t\\\\n\\\\nMonday\\\\nMon\\\\n\\\\t\\\\t\\\\t\\\\t\\\\t\\\\t\\\\t\\\\t\\\\t\\\\t\\\\t\\\\t\\\\t\\\\t\\\\t\\\\t\\\\t\\\\t\\\\t\\\\t\\\\t\\\\t\\\\t\\\\t\\\\t\\\\t\\\\t\\\\t\\\\t\\\\t\\\\t\\\\t\\\\t\\\\t\\\\t\\\\t\\\\t\\\\t\\\\t\\\\t\\\\t\\\\t\\\\t\\\\t\\\\t\\\\t\\\\t\\\\t\\\\t\\\\t\\\\t\\\\t\\\\t\\\\n\\\\nTuesday\\\\nTue\\\\n\\\\t\\\\t\\\\t\\\\t\\\\t\\\\t\\\\t\\\\t\\\\t\\\\t\\\\t\\\\t\\\\t\\\\t\\\\t\\\\t\\\\t\\\\t\\\\t\\\\t\\\\t\\\\t\\\\t\\\\t\\\\t\\\\t\\\\t\\\\t\\\\t\\\\t\\\\t\\\\t\\\\t\\\\t\\\\t\\\\t\\\\t\\\\t\\\\t\\\\t\\\\t\\\\t\\\\t\\\\t\\\\t\\\\t\\\\t\\\\t\\\\t\\\\t\\\\t\\\\t\\\\t\\\\n\\\\nWednesday\\\\nWed\\\\n\\\\t\\\\t\\\\t\\\\t\\\\t\\\\t\\\\t\\\\t\\\\t\\\\t\\\\t\\\\t\\\\t\\\\t\\\\t\\\\t\\\\t\\\\t\\\\t\\\\t\\\\t\\\\t\\\\t\\\\t\\\\t\\\\t\\\\t\\\\t\\\\t\\\\t\\\\t\\\\t\\\\t\\\\t\\\\t\\\\t\\\\t\\\\t\\\\t\\\\t\\\\t\\\\t\\\\t\\\\t\\\\t\\\\t\\\\t\\\\t\\\\t\\\\t\\\\t\\\\t\\\\t\\\\n\\\\nThursday\\\\nThu\\\\n\\\\t\\\\t\\\\t\\\\t\\\\t\\\\t\\\\t\\\\t\\\\t\\\\t\\\\t\\\\t\\\\t\\\\t\\\\t\\\\t\\\\t\\\\t\\\\t\\\\t\\\\t\\\\t\\\\t\\\\t\\\\t\\\\t\\\\t\\\\t\\\\t\\\\t\\\\t\\\\t\\\\t\\\\t\\\\t\\\\t\\\\t\\\\t\\\\t\\\\t\\\\t\\\\t\\\\t\\\\t\\\\t\\\\t\\\\t\\\\t\\\\t\\\\t\\\\t\\\\t\\\\t\\\\n\\\\nFriday\\\\nFri\\\\n\\\\t\\\\t\\\\t\\\\t\\\\t\\\\t\\\\t\\\\t\\\\t\\\\t\\\\t\\\\t\\\\t\\\\t\\\\t\\\\t\\\\t\\\\t\\\\t\\\\t\\\\t\\\\t\\\\t\\\\t\\\\t\\\\t\\\\t\\\\t\\\\t\\\\t\\\\t\\\\t\\\\t\\\\t\\\\t\\\\t\\\\t\\\\t\\\\t\\\\t\\\\t\\\\t\\\\t\\\\t\\\\t\\\\t\\\\t\\\\t\\\\t\\\\t\\\\t\\\\t\\\\t\\\\n\\\\nSaturday\\\\nSat\\\\n\\\\t\\\\t\\\\t\\\\t\\\\t\\\\t\\\\t\\\\t\\\\t\\\\t\\\\t\\\\t\\\\t\\\\t\\\\t\\\\t\\\\t\\\\t\\\\t\\\\t\\\\t\\\\t\\\\t\\\\t\\\\t\\\\t\\\\t\\\\t\\\\t\\\\t\\\\t\\\\t\\\\t\\\\t\\\\t\\\\t\\\\t\\\\t\\\\t\\\\t\\\\t\\\\t\\\\t\\\\t\\\\t\\\\t\\\\t\\\\t\\\\t\\\\t\\\\t\\\\t\\\\t\\\\nLearn how we count contributions\\\\nLess\\\\nNo contributions.\\\\nLow contributions.\\\\nMedium-low contributions.\\\\nMedium-high contributions.\\\\nHigh contributions.\\\\nMore\\\\n @nuxt\\\\n @shikijs\\\\n @slidevjs\\\\n More\\\\nActivity overview\\\\nContributed to shikijs/shiki, unocss/unocss, slidevjs/slidev and 262 other repositories\\\\n11%\\\\nCode review\\\\n1%\\\\nIssues\\\\n4%\\\\nPull requests\\\\n84%\\\\nCommits\\\\nYear: 2024\\\\nContribution activity\\\\nApril 2024\\\\nCreated 112 commits in 23 repositories\\\\nCreated 3 repositories\\\\n antfu/config-array\\\\n JavaScript\\\\nThis contribution was made on Apr 2\\\\nApr 2\\\\n antfu/eslint.org\\\\n JavaScript\\\\nThis contribution was made on Apr 1\\\\nApr 1\\\\n antfu/eslint\\\\n JavaScript\\\\nThis contribution was made on Apr 1\\\\nApr 1\\\\nCreated a pull request in eslint/eslint.org that received 21 comments\\\\nApr 1\\\\nfeat: blog: Introducing ESLint Config Inspector\\\\n\\\\nPrerequisites checklist I have read the contributing guidelines. What is the purpose of this pull request? What changes did you make? (Give an \\\\u2026\\\\n\\\\n+72 \\\\u22120  lines changed \\\\u2022\\\\n21 comments\\\\nOpened 12 other pull requests in 6 repositories\\\\neslint/config-inspector\\\\n4 merged\\\\nnuxt/eslint\\\\n3 merged\\\\nnuxt/nuxt\\\\n2 merged\\\\nslidevjs/slidev\\\\n1 merged\\\\nhumanwhocodes/config-array\\\\n1 merged\\\\neslint/eslint\\\\n1 merged\\\\nReviewed 12 pull requests in 7 repositories\\\\n1 contribution in private repositories\\\\nApr 5\\\\nShow more activity\\\\n\\\\nSeeing something unexpected? Take a look at the GitHub profile guide.\\\\n\\\\nFooter\\\\n\\\\u00a9 2024 GitHub,\\\\u00a0Inc.\\\\nFooter navigation\\\\nTerms\\\\nPrivacy\\\\nSecurity\\\\nStatus\\\\nDocs\\\\nContact\\\\nManage cookies\\\\nDo not share my personal information\\\\nantfu (Anthony Fu)\"}]'"
      ]
     },
     "execution_count": 56,
     "metadata": {},
     "output_type": "execute_result"
    }
   ],
   "source": [
    "instructions=[\n",
    "    \"Hello plz tell how many repo i have on github. Id: ethansnow2012\",\n",
    "    \"Who has most followers on github?\",\n",
    "]\n",
    "\n",
    "def get_github_profile(id=''):\n",
    "    #print(\"Getting github profile for user with id: \", id)\n",
    "    response = requests.get(server_url)\n",
    "    return response.text\n",
    "\n",
    "get_github_profile()"
   ]
  },
  {
   "cell_type": "code",
   "execution_count": 57,
   "metadata": {},
   "outputs": [
    {
     "data": {
      "text/plain": [
       "Assistant(id='asst_pc2Su2UHd6IV7i3WwaYAhCqF', created_at=1712382025, description=None, file_ids=[], instructions='Helping me to find the write id(person is nice).', metadata={}, model='gpt-4', name='github profile', object='assistant', tools=[FunctionTool(function=FunctionDefinition(name='get_github_data', description='Retrieves data from the API using id as filter if needed. This function is called only if the data has not been previously retrieved or need to be retrived again.', parameters={'type': 'object', 'properties': {'github_id': {'type': 'string', 'description': 'The GitHub ID for which the data needs to be fetched'}}, 'optional': ['github_id'], 'required': []}), type='function')])"
      ]
     },
     "execution_count": 57,
     "metadata": {},
     "output_type": "execute_result"
    }
   ],
   "source": [
    "# Fetch the assistant\n",
    "\n",
    "assistant = client.beta.assistants.retrieve(\n",
    "    assistant_id=assistant_id\n",
    ")\n",
    "assistant"
   ]
  },
  {
   "cell_type": "code",
   "execution_count": 58,
   "metadata": {},
   "outputs": [
    {
     "data": {
      "text/plain": [
       "Thread(id='thread_o8t2nKJzhk0bKprh0YYd4Rpv', created_at=1712411505, metadata={}, object='thread')"
      ]
     },
     "execution_count": 58,
     "metadata": {},
     "output_type": "execute_result"
    }
   ],
   "source": [
    "# Create a thread\n",
    "\n",
    "thread = client.beta.threads.create()\n",
    "thread"
   ]
  },
  {
   "cell_type": "code",
   "execution_count": 59,
   "metadata": {},
   "outputs": [
    {
     "data": {
      "text/plain": [
       "Run(id='run_qvTZL2sKjduAkz63iXiBar9v', assistant_id='asst_pc2Su2UHd6IV7i3WwaYAhCqF', cancelled_at=None, completed_at=None, created_at=1712411506, expires_at=1712412106, failed_at=None, file_ids=[], instructions='Who has most followers on github?', last_error=None, metadata={}, model='gpt-4', object='thread.run', required_action=None, started_at=None, status='queued', thread_id='thread_o8t2nKJzhk0bKprh0YYd4Rpv', tools=[FunctionTool(function=FunctionDefinition(name='get_github_data', description='Retrieves data from the API using id as filter if needed. This function is called only if the data has not been previously retrieved or need to be retrived again.', parameters={'type': 'object', 'properties': {'github_id': {'type': 'string', 'description': 'The GitHub ID for which the data needs to be fetched'}}, 'optional': ['github_id'], 'required': []}), type='function')], usage=None, temperature=1.0)"
      ]
     },
     "execution_count": 59,
     "metadata": {},
     "output_type": "execute_result"
    }
   ],
   "source": [
    "# Prompt the model to tell us all about the data provided\n",
    "\n",
    "run = client.beta.threads.runs.create(\n",
    "    thread_id = thread.id,\n",
    "    assistant_id = assistant.id,\n",
    "    instructions = instructions[1]\n",
    ")\n",
    "run"
   ]
  },
  {
   "cell_type": "code",
   "execution_count": 60,
   "metadata": {},
   "outputs": [
    {
     "name": "stdout",
     "output_type": "stream",
     "text": [
      "Attempt 1: Waiting for job to complete...\n",
      "Job completed, processing tool calls...\n",
      "A-1.1 RequiredActionFunctionToolCall(id='call_i98nQgoQ5a0Z8Z1bOIfLEqjr', function=Function(arguments='{\\n  \"github_id\": \"all\"\\n}', name='get_github_data'), type='function')\n",
      "Process completed.\n"
     ]
    }
   ],
   "source": [
    "\n",
    "\n",
    "# Function to retrieve the run\n",
    "def retrieve_run(thread_id, run_id):\n",
    "    run = client.beta.threads.runs.retrieve(thread_id=thread_id, run_id=run_id)\n",
    "    return run\n",
    "\n",
    "# Function to process tool calls\n",
    "def process_tool_calls(run):\n",
    "    tool_calls = run.required_action.submit_tool_outputs.tool_calls\n",
    "    tool_outputs = [get_outputs_for_tool_call(tool_call) for tool_call in tool_calls]\n",
    "    return tool_outputs\n",
    "\n",
    "# Initial setup\n",
    "thread_id = thread.id\n",
    "run_id = run.id\n",
    "run = retrieve_run(thread_id, run_id)\n",
    "\n",
    "# Attempt counter\n",
    "attempts = 0\n",
    "\n",
    "time.sleep(2.5)\n",
    "# Loop until the required action is true or attempts limit reached\n",
    "while not run.required_action and attempts < 3:\n",
    "    print(f\"Attempt {attempts + 1}: Waiting for job to complete...\")\n",
    "    time.sleep(5)  # Wait for 10 seconds before trying again\n",
    "    run = retrieve_run(thread_id, run_id)\n",
    "    attempts += 1\n",
    "\n",
    "# Check if required action is true\n",
    "if run.required_action:\n",
    "    print(\"Job completed, processing tool calls...\")\n",
    "    tool_outputs = process_tool_calls(run)\n",
    "    # Submit tool outputs\n",
    "    run = client.beta.threads.runs.submit_tool_outputs(\n",
    "        thread_id=thread_id,\n",
    "        run_id=run_id,\n",
    "        tool_outputs=tool_outputs\n",
    "    )\n",
    "    print(\"Process completed.\")\n",
    "else:\n",
    "    print(\"Job did not complete after 3 attempts.\")\n",
    "\n"
   ]
  },
  {
   "cell_type": "code",
   "execution_count": 61,
   "metadata": {},
   "outputs": [],
   "source": [
    "# run = client.beta.threads.runs.retrieve(\n",
    "#     thread_id=thread.id,\n",
    "#     run_id=run.id\n",
    "# )\n",
    "# run"
   ]
  },
  {
   "cell_type": "code",
   "execution_count": 62,
   "metadata": {},
   "outputs": [
    {
     "name": "stdout",
     "output_type": "stream",
     "text": [
      "{\n",
      "  \"data\": [\n",
      "    {\n",
      "      \"id\": \"msg_iTl1JXWs1hLtXEpvSDEIMWC1\",\n",
      "      \"assistant_id\": \"asst_pc2Su2UHd6IV7i3WwaYAhCqF\",\n",
      "      \"completed_at\": null,\n",
      "      \"content\": [\n",
      "        {\n",
      "          \"text\": {\n",
      "            \"annotations\": [],\n",
      "            \"value\": \"The GitHub user with the most followers is yyx990803 (Evan You) with 98.7k followers.\"\n",
      "          },\n",
      "          \"type\": \"text\"\n",
      "        }\n",
      "      ],\n",
      "      \"created_at\": 1712411518,\n",
      "      \"file_ids\": [],\n",
      "      \"incomplete_at\": null,\n",
      "      \"incomplete_details\": null,\n",
      "      \"metadata\": {},\n",
      "      \"object\": \"thread.message\",\n",
      "      \"role\": \"assistant\",\n",
      "      \"run_id\": \"run_qvTZL2sKjduAkz63iXiBar9v\",\n",
      "      \"status\": null,\n",
      "      \"thread_id\": \"thread_o8t2nKJzhk0bKprh0YYd4Rpv\"\n",
      "    }\n",
      "  ],\n",
      "  \"object\": \"list\",\n",
      "  \"first_id\": \"msg_iTl1JXWs1hLtXEpvSDEIMWC1\",\n",
      "  \"last_id\": \"msg_iTl1JXWs1hLtXEpvSDEIMWC1\",\n",
      "  \"has_more\": false\n",
      "}\n"
     ]
    }
   ],
   "source": [
    "# Show the latest message!\n",
    "time.sleep(1)\n",
    "messages = client.beta.threads.messages.list(\n",
    "    thread_id=thread.id\n",
    ")\n",
    "print(messages.model_dump_json(indent=2))\n"
   ]
  },
  {
   "cell_type": "markdown",
   "metadata": {},
   "source": [
    "SyncCursorPage[Message](data=[Message(id='msg_RN1sfxW7VNy5OXHyEa9IBC2d', assistant_id='asst_pc2Su2UHd6IV7i3WwaYAhCqF', completed_at=None, content=[TextContentBlock(text=Text(annotations=[], value='You have 54 repositories on GitHub.'), type='text')], created_at=1712409703, file_ids=[], incomplete_at=None, incomplete_details=None, metadata={}, object='thread.message', role='assistant', run_id='run_mAgz7AW0qiRWP6JgA2O4K1JM', status=None, thread_id='thread_sM5HtTuombiXsUFq6cpodrCE')], object='list', first_id='msg_RN1sfxW7VNy5OXHyEa9IBC2d', last_id='msg_RN1sfxW7VNy5OXHyEa9IBC2d', has_more=False)\n"
   ]
  },
  {
   "cell_type": "markdown",
   "metadata": {},
   "source": []
  }
 ],
 "metadata": {
  "kernelspec": {
   "display_name": "Python 3",
   "language": "python",
   "name": "python3"
  },
  "language_info": {
   "codemirror_mode": {
    "name": "ipython",
    "version": 3
   },
   "file_extension": ".py",
   "mimetype": "text/x-python",
   "name": "python",
   "nbconvert_exporter": "python",
   "pygments_lexer": "ipython3",
   "version": "3.11.9"
  }
 },
 "nbformat": 4,
 "nbformat_minor": 2
}
