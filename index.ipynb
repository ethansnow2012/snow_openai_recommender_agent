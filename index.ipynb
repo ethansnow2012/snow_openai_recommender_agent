{
 "cells": [
  {
   "cell_type": "code",
   "execution_count": 30,
   "metadata": {},
   "outputs": [],
   "source": [
    "# Set up the client\n",
    "\n",
    "from openai import OpenAI\n",
    "from dotenv import load_dotenv\n",
    "import os\n",
    "\n",
    "load_dotenv()  # take environment variables from .env.\n",
    "\n",
    "client = OpenAI(\n",
    "    api_key=os.getenv(\"OPEN_AI_KEY\")\n",
    ")\n",
    "\n",
    "assistant_id = os.getenv(\"ASSISTANT_ID\")\n",
    "\n",
    "server_url = os.getenv(\"SERVER_URL\")"
   ]
  },
  {
   "cell_type": "code",
   "execution_count": 46,
   "metadata": {},
   "outputs": [],
   "source": [
    "import requests\n",
    "\n",
    "def get_github_profile(id):\n",
    "    print(\"Getting github profile for user with id: \", id)\n",
    "    response = requests.get(server_url)\n",
    "    return response.text\n",
    "\n"
   ]
  },
  {
   "cell_type": "code",
   "execution_count": 32,
   "metadata": {},
   "outputs": [
    {
     "data": {
      "text/plain": [
       "Assistant(id='asst_pc2Su2UHd6IV7i3WwaYAhCqF', created_at=1712382025, description=None, file_ids=[], instructions='', metadata={}, model='gpt-4', name='github profile', object='assistant', tools=[FunctionTool(function=FunctionDefinition(name='get_github_data', description='Retrieves data from a specific API using a GitHub ID. This function is called only if the data has not been previously retrieved.', parameters={'type': 'object', 'properties': {'github_id': {'type': 'string', 'description': 'The GitHub ID for which the data needs to be fetched'}}, 'required': ['github_id']}), type='function')])"
      ]
     },
     "execution_count": 32,
     "metadata": {},
     "output_type": "execute_result"
    }
   ],
   "source": [
    "# Fetch the assistant\n",
    "\n",
    "assistant = client.beta.assistants.retrieve(\n",
    "    assistant_id=assistant_id\n",
    ")\n",
    "assistant"
   ]
  },
  {
   "cell_type": "code",
   "execution_count": 33,
   "metadata": {},
   "outputs": [
    {
     "data": {
      "text/plain": [
       "Thread(id='thread_0UlN4CHI6NpzcrZnRq9Z62Dh', created_at=1712391897, metadata={}, object='thread')"
      ]
     },
     "execution_count": 33,
     "metadata": {},
     "output_type": "execute_result"
    }
   ],
   "source": [
    "# Create a thread\n",
    "\n",
    "thread = client.beta.threads.create()\n",
    "thread"
   ]
  },
  {
   "cell_type": "code",
   "execution_count": 38,
   "metadata": {},
   "outputs": [
    {
     "data": {
      "text/plain": [
       "Run(id='run_s5xLDsyxoLSJY8ALRdsDhZ1w', assistant_id='asst_pc2Su2UHd6IV7i3WwaYAhCqF', cancelled_at=None, completed_at=None, created_at=1712392023, expires_at=1712392623, failed_at=None, file_ids=[], instructions='hello plz tell how many repo i have on github. Id: ethansnow2012', last_error=None, metadata={}, model='gpt-4', object='thread.run', required_action=None, started_at=None, status='queued', thread_id='thread_0UlN4CHI6NpzcrZnRq9Z62Dh', tools=[FunctionTool(function=FunctionDefinition(name='get_github_data', description='Retrieves data from a specific API using a GitHub ID. This function is called only if the data has not been previously retrieved.', parameters={'type': 'object', 'properties': {'github_id': {'type': 'string', 'description': 'The GitHub ID for which the data needs to be fetched'}}, 'required': ['github_id']}), type='function')], usage=None, temperature=1.0)"
      ]
     },
     "execution_count": 38,
     "metadata": {},
     "output_type": "execute_result"
    }
   ],
   "source": [
    "# Prompt the model to tell us all about the data provided\n",
    "\n",
    "run = client.beta.threads.runs.create(\n",
    "    thread_id=thread.id,\n",
    "    assistant_id=assistant.id,\n",
    "    instructions=\"hello plz tell how many repo i have on github. Id: ethansnow2012\",\n",
    ")\n",
    "run"
   ]
  },
  {
   "cell_type": "code",
   "execution_count": 48,
   "metadata": {},
   "outputs": [
    {
     "name": "stdout",
     "output_type": "stream",
     "text": [
      "A-0\n",
      "RequiredAction(submit_tool_outputs=RequiredActionSubmitToolOutputs(tool_calls=[RequiredActionFunctionToolCall(id='call_2wYYdPrSlQrjJIF42YE1nNx2', function=Function(arguments='{\\n  \"github_id\": \"ethansnow2012\"\\n}', name='get_github_data'), type='function')]), type='submit_tool_outputs')\n",
      "A-1.1 RequiredActionFunctionToolCall(id='call_2wYYdPrSlQrjJIF42YE1nNx2', function=Function(arguments='{\\n  \"github_id\": \"ethansnow2012\"\\n}', name='get_github_data'), type='function')\n",
      "Getting github profile for user with id:  ethansnow2012\n",
      "A-1\n",
      "[{'tool_call_id': 'call_2wYYdPrSlQrjJIF42YE1nNx2', 'output': 'I am EthanKao. Repo count: 53. Id: ethansnow2012.'}]\n",
      "A-2\n",
      "Run(id='run_s5xLDsyxoLSJY8ALRdsDhZ1w', assistant_id='asst_pc2Su2UHd6IV7i3WwaYAhCqF', cancelled_at=None, completed_at=None, created_at=1712392023, expires_at=1712392623, failed_at=None, file_ids=[], instructions='hello plz tell how many repo i have on github. Id: ethansnow2012', last_error=None, metadata={}, model='gpt-4', object='thread.run', required_action=None, started_at=1712392023, status='queued', thread_id='thread_0UlN4CHI6NpzcrZnRq9Z62Dh', tools=[FunctionTool(function=FunctionDefinition(name='get_github_data', description='Retrieves data from a specific API using a GitHub ID. This function is called only if the data has not been previously retrieved.', parameters={'type': 'object', 'properties': {'github_id': {'type': 'string', 'description': 'The GitHub ID for which the data needs to be fetched'}}, 'required': ['github_id']}), type='function')], usage=None, temperature=1.0)\n"
     ]
    }
   ],
   "source": [
    "import json\n",
    "# Wait until the job has finished completed\n",
    "# (you can re-run this step to check the completed_at state)\n",
    "run = client.beta.threads.runs.retrieve(\n",
    "    thread_id=thread.id,\n",
    "    run_id=run.id\n",
    ")\n",
    "\n",
    "def get_outputs_for_tool_call(tool_call):\n",
    "    print(\"A-1.1\", tool_call)\n",
    "    github_id = json.loads(tool_call.function.arguments)['github_id']\n",
    "    profile_data = get_github_profile(github_id)\n",
    "    return {\n",
    "        \"tool_call_id\": tool_call.id,\n",
    "        \"output\": profile_data\n",
    "    }\n",
    "\n",
    "if(run.required_action):\n",
    "    print(\"A-0\")\n",
    "    print(run.required_action)\n",
    "    tool_calls = run.required_action.submit_tool_outputs.tool_calls\n",
    "    tool_outputs = [get_outputs_for_tool_call(tool_call) for tool_call in tool_calls]\n",
    "    print(\"A-1\")\n",
    "    print(tool_outputs)\n",
    "\n",
    "    run = client.beta.threads.runs.submit_tool_outputs(\n",
    "        thread_id=thread.id,\n",
    "        run_id=run.id,\n",
    "        tool_outputs=tool_outputs\n",
    "    )\n",
    "    print(\"A-2\")\n",
    "    print(run)\n",
    "else:\n",
    "    print(\"B\")\n",
    "    print(run)\n",
    "\n"
   ]
  },
  {
   "cell_type": "code",
   "execution_count": 49,
   "metadata": {},
   "outputs": [
    {
     "data": {
      "text/plain": [
       "Run(id='run_s5xLDsyxoLSJY8ALRdsDhZ1w', assistant_id='asst_pc2Su2UHd6IV7i3WwaYAhCqF', cancelled_at=None, completed_at=1712392497, created_at=1712392023, expires_at=None, failed_at=None, file_ids=[], instructions='hello plz tell how many repo i have on github. Id: ethansnow2012', last_error=None, metadata={}, model='gpt-4', object='thread.run', required_action=None, started_at=1712392496, status='completed', thread_id='thread_0UlN4CHI6NpzcrZnRq9Z62Dh', tools=[FunctionTool(function=FunctionDefinition(name='get_github_data', description='Retrieves data from a specific API using a GitHub ID. This function is called only if the data has not been previously retrieved.', parameters={'type': 'object', 'properties': {'github_id': {'type': 'string', 'description': 'The GitHub ID for which the data needs to be fetched'}}, 'required': ['github_id']}), type='function')], usage=Usage(completion_tokens=39, prompt_tokens=369, total_tokens=408), temperature=1.0)"
      ]
     },
     "execution_count": 49,
     "metadata": {},
     "output_type": "execute_result"
    }
   ],
   "source": [
    "run = client.beta.threads.runs.retrieve(\n",
    "    thread_id=thread.id,\n",
    "    run_id=run.id\n",
    ")\n",
    "run"
   ]
  },
  {
   "cell_type": "code",
   "execution_count": 50,
   "metadata": {},
   "outputs": [
    {
     "name": "stdout",
     "output_type": "stream",
     "text": [
      "SyncCursorPage[Message](data=[Message(id='msg_yG1jAQOS9bRi5AW1tCHf3sKl', assistant_id='asst_pc2Su2UHd6IV7i3WwaYAhCqF', completed_at=None, content=[TextContentBlock(text=Text(annotations=[], value='According to the retrieved data, you have 53 repositories on GitHub.'), type='text')], created_at=1712392497, file_ids=[], incomplete_at=None, incomplete_details=None, metadata={}, object='thread.message', role='assistant', run_id='run_s5xLDsyxoLSJY8ALRdsDhZ1w', status=None, thread_id='thread_0UlN4CHI6NpzcrZnRq9Z62Dh'), Message(id='msg_pT9dIJLgRDvtXFkxMHHAJp4n', assistant_id='asst_pc2Su2UHd6IV7i3WwaYAhCqF', completed_at=None, content=[TextContentBlock(text=Text(annotations=[], value=\"I'm sorry, but as an artificial intelligence model, I don't have access to your Github data or any other personal records unless they are shared with me during our conversation. You should be able to check the number of repositories you have on your Github profile page or use GitHub's API.\"), type='text')], created_at=1712391901, file_ids=[], incomplete_at=None, incomplete_details=None, metadata={}, object='thread.message', role='assistant', run_id='run_MkluyCoH7MEVWO2x0yntYlWM', status=None, thread_id='thread_0UlN4CHI6NpzcrZnRq9Z62Dh')], object='list', first_id='msg_yG1jAQOS9bRi5AW1tCHf3sKl', last_id='msg_pT9dIJLgRDvtXFkxMHHAJp4n', has_more=False)\n"
     ]
    }
   ],
   "source": [
    "# Show the latest message!\n",
    "from pprint import pp\n",
    "messages = client.beta.threads.messages.list(\n",
    "    thread_id=thread.id\n",
    ")\n",
    "\n",
    "pp(messages)"
   ]
  },
  {
   "cell_type": "markdown",
   "metadata": {},
   "source": [
    "SyncCursorPage[Message](data=[Message(id='msg_yG1jAQOS9bRi5AW1tCHf3sKl', assistant_id='asst_pc2Su2UHd6IV7i3WwaYAhCqF', completed_at=None, content=[TextContentBlock(text=Text(annotations=[], value='According to the retrieved data, you have 53 repositories on GitHub.'), type='text')], created_at=1712392497, file_ids=[], incomplete_at=None, incomplete_details=None, metadata={}, object='thread.message', role='assistant', run_id='run_s5xLDsyxoLSJY8ALRdsDhZ1w', status=None, thread_id='thread_0UlN4CHI6NpzcrZnRq9Z62Dh'), Message(id='msg_pT9dIJLgRDvtXFkxMHHAJp4n', assistant_id='asst_pc2Su2UHd6IV7i3WwaYAhCqF', completed_at=None, content=[TextContentBlock(text=Text(annotations=[], value=\"I'm sorry, but as an artificial intelligence model, I don't have access to your Github data or any other personal records unless they are shared with me during our conversation. You should be able to check the number of repositories you have on your Github profile page or use GitHub's API.\"), type='text')], created_at=1712391901, file_ids=[], incomplete_at=None, incomplete_details=None, metadata={}, object='thread.message', role='assistant', run_id='run_MkluyCoH7MEVWO2x0yntYlWM', status=None, thread_id='thread_0UlN4CHI6NpzcrZnRq9Z62Dh')], object='list', first_id='msg_yG1jAQOS9bRi5AW1tCHf3sKl', last_id='msg_pT9dIJLgRDvtXFkxMHHAJp4n', has_more=False)\n"
   ]
  },
  {
   "cell_type": "markdown",
   "metadata": {},
   "source": []
  }
 ],
 "metadata": {
  "kernelspec": {
   "display_name": "Python 3",
   "language": "python",
   "name": "python3"
  },
  "language_info": {
   "codemirror_mode": {
    "name": "ipython",
    "version": 3
   },
   "file_extension": ".py",
   "mimetype": "text/x-python",
   "name": "python",
   "nbconvert_exporter": "python",
   "pygments_lexer": "ipython3",
   "version": "3.11.9"
  }
 },
 "nbformat": 4,
 "nbformat_minor": 2
}
