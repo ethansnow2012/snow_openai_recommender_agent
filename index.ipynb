{
 "cells": [
  {
   "cell_type": "code",
   "execution_count": 1,
   "metadata": {},
   "outputs": [],
   "source": [
    "# Set up the client\n",
    "from openai import OpenAI\n",
    "from dotenv import load_dotenv\n",
    "import os\n",
    "\n",
    "\n",
    "\n",
    "load_dotenv()  # take environment variables from .env.\n",
    "\n",
    "assistant_id = os.getenv(\"ASSISTANT_ID\")\n",
    "server_url = os.getenv(\"SERVER_URL\")\n",
    "client = OpenAI(api_key=os.getenv(\"OPEN_AI_KEY\"))\n"
   ]
  },
  {
   "cell_type": "code",
   "execution_count": 2,
   "metadata": {},
   "outputs": [
    {
     "data": {
      "text/plain": [
       "'[{\"id\": \"ethansnow2012\", \"content\": \"Skip to content\\\\nethansnow2012\\\\nOverview\\\\nRepositories\\\\n54\\\\nProjects\\\\nPackages\\\\nStars\\\\n48\\\\nSet status\\\\nethansnow2012\\\\nEdit profile\\\\n 3 followers \\\\u00b7 10 following\\\\nAchievements\\\\nx3\\\\nBetaSend feedback\\\\nOrganizations\\\\nethansnow2012/README.md\\\\nHi there \\\\ud83d\\\\udc4b\\\\n\\\\ud83d\\\\udd2d I\\\\u2019m currently working on (Frontend Development|Product Strategy).\\\\n\\\\ud83d\\\\ude38 I\\\\u2019m tying to build a SaaS as an experiment for myself. Beta Production: Live Demo Demo: Figma Business Discussion: Figjam\\\\n\\\\ud83d\\\\udd2d I\\\\u2019m looking for job opportunities. About me: Cakeresume\\\\n\\\\n\\\\nRecently working on:\\\\nCodeBase Export Tool for Ai: CodeBaseJson\\\\nSaaS Platform for Larps: \\\\u7dad\\\\u514b\\\\u591a\\\\u9152\\\\u5427\\\\n\\\\n\\\\nMy Gist\\\\n\\\\nhttps://gist.github.com/ethansnow2012\\\\n\\\\nCustomize your pins\\\\nPinned\\\\n CodeBaseJson Public\\\\n\\\\nParse your code base to Json so that Ai can read it.\\\\n\\\\n TypeScript  1\\\\n\\\\nContribution settings \\\\n751 contributions in the last year\\\\nContribution Graph\\\\nDay of Week\\\\n\\\\t\\\\nApril\\\\nApr\\\\n\\\\t\\\\nMay\\\\nMay\\\\n\\\\t\\\\nJune\\\\nJun\\\\n\\\\t\\\\nJuly\\\\nJul\\\\n\\\\t\\\\nAugust\\\\nAug\\\\n\\\\t\\\\nSeptember\\\\nSep\\\\n\\\\t\\\\nOctober\\\\nOct\\\\n\\\\t\\\\nNovember\\\\nNov\\\\n\\\\t\\\\nDecember\\\\nDec\\\\n\\\\t\\\\nJanuary\\\\nJan\\\\n\\\\t\\\\nFebruary\\\\nFeb\\\\n\\\\t\\\\nMarch\\\\nMar\\\\n\\\\n\\\\nSunday\\\\nSun\\\\n\\\\t\\\\t\\\\t\\\\t\\\\t\\\\t\\\\t\\\\t\\\\t\\\\t\\\\t\\\\t\\\\t\\\\t\\\\t\\\\t\\\\t\\\\t\\\\t\\\\t\\\\t\\\\t\\\\t\\\\t\\\\t\\\\t\\\\t\\\\t\\\\t\\\\t\\\\t\\\\t\\\\t\\\\t\\\\t\\\\t\\\\t\\\\t\\\\t\\\\t\\\\t\\\\t\\\\t\\\\t\\\\t\\\\t\\\\t\\\\t\\\\t\\\\t\\\\t\\\\t\\\\t\\\\n\\\\nMonday\\\\nMon\\\\n\\\\t\\\\t\\\\t\\\\t\\\\t\\\\t\\\\t\\\\t\\\\t\\\\t\\\\t\\\\t\\\\t\\\\t\\\\t\\\\t\\\\t\\\\t\\\\t\\\\t\\\\t\\\\t\\\\t\\\\t\\\\t\\\\t\\\\t\\\\t\\\\t\\\\t\\\\t\\\\t\\\\t\\\\t\\\\t\\\\t\\\\t\\\\t\\\\t\\\\t\\\\t\\\\t\\\\t\\\\t\\\\t\\\\t\\\\t\\\\t\\\\t\\\\t\\\\t\\\\t\\\\t\\\\n\\\\nTuesday\\\\nTue\\\\n\\\\t\\\\t\\\\t\\\\t\\\\t\\\\t\\\\t\\\\t\\\\t\\\\t\\\\t\\\\t\\\\t\\\\t\\\\t\\\\t\\\\t\\\\t\\\\t\\\\t\\\\t\\\\t\\\\t\\\\t\\\\t\\\\t\\\\t\\\\t\\\\t\\\\t\\\\t\\\\t\\\\t\\\\t\\\\t\\\\t\\\\t\\\\t\\\\t\\\\t\\\\t\\\\t\\\\t\\\\t\\\\t\\\\t\\\\t\\\\t\\\\t\\\\t\\\\t\\\\t\\\\t\\\\n\\\\nWednesday\\\\nWed\\\\n\\\\t\\\\t\\\\t\\\\t\\\\t\\\\t\\\\t\\\\t\\\\t\\\\t\\\\t\\\\t\\\\t\\\\t\\\\t\\\\t\\\\t\\\\t\\\\t\\\\t\\\\t\\\\t\\\\t\\\\t\\\\t\\\\t\\\\t\\\\t\\\\t\\\\t\\\\t\\\\t\\\\t\\\\t\\\\t\\\\t\\\\t\\\\t\\\\t\\\\t\\\\t\\\\t\\\\t\\\\t\\\\t\\\\t\\\\t\\\\t\\\\t\\\\t\\\\t\\\\t\\\\t\\\\n\\\\nThursday\\\\nThu\\\\n\\\\t\\\\t\\\\t\\\\t\\\\t\\\\t\\\\t\\\\t\\\\t\\\\t\\\\t\\\\t\\\\t\\\\t\\\\t\\\\t\\\\t\\\\t\\\\t\\\\t\\\\t\\\\t\\\\t\\\\t\\\\t\\\\t\\\\t\\\\t\\\\t\\\\t\\\\t\\\\t\\\\t\\\\t\\\\t\\\\t\\\\t\\\\t\\\\t\\\\t\\\\t\\\\t\\\\t\\\\t\\\\t\\\\t\\\\t\\\\t\\\\t\\\\t\\\\t\\\\t\\\\t\\\\n\\\\nFriday\\\\nFri\\\\n\\\\t\\\\t\\\\t\\\\t\\\\t\\\\t\\\\t\\\\t\\\\t\\\\t\\\\t\\\\t\\\\t\\\\t\\\\t\\\\t\\\\t\\\\t\\\\t\\\\t\\\\t\\\\t\\\\t\\\\t\\\\t\\\\t\\\\t\\\\t\\\\t\\\\t\\\\t\\\\t\\\\t\\\\t\\\\t\\\\t\\\\t\\\\t\\\\t\\\\t\\\\t\\\\t\\\\t\\\\t\\\\t\\\\t\\\\t\\\\t\\\\t\\\\t\\\\t\\\\t\\\\t\\\\n\\\\nSaturday\\\\nSat\\\\n\\\\t\\\\t\\\\t\\\\t\\\\t\\\\t\\\\t\\\\t\\\\t\\\\t\\\\t\\\\t\\\\t\\\\t\\\\t\\\\t\\\\t\\\\t\\\\t\\\\t\\\\t\\\\t\\\\t\\\\t\\\\t\\\\t\\\\t\\\\t\\\\t\\\\t\\\\t\\\\t\\\\t\\\\t\\\\t\\\\t\\\\t\\\\t\\\\t\\\\t\\\\t\\\\t\\\\t\\\\t\\\\t\\\\t\\\\t\\\\t\\\\t\\\\t\\\\t\\\\t\\\\t\\\\nLearn how we count contributions\\\\nLess\\\\nNo contributions.\\\\nLow contributions.\\\\nMedium-low contributions.\\\\nMedium-high contributions.\\\\nHigh contributions.\\\\nMore\\\\nYear: 2024\\\\nContribution activity\\\\nApril 2024\\\\nethansnow2012 has no activity yet for this period.\\\\nShow more activity\\\\n\\\\nSeeing something unexpected? Take a look at the GitHub profile guide.\\\\n\\\\nFooter\\\\n\\\\u00a9 2024 GitHub,\\\\u00a0Inc.\\\\nFooter navigation\\\\nTerms\\\\nPrivacy\\\\nSecurity\\\\nStatus\\\\nDocs\\\\nContact\\\\nManage cookies\\\\nDo not share my personal information\"}, {\"id\": \"yyx990803\", \"content\": \"Skip to content\\\\nyyx990803\\\\nOverview\\\\nRepositories\\\\n190\\\\nProjects\\\\nPackages\\\\nStars\\\\n806\\\\nSponsoring\\\\n11\\\\nEvan You\\\\nyyx990803\\\\n Sponsor\\\\nHusband, father of two, independent OSS dev. @vuejs, @vitejs, @rolldown, and more. Connoisseur of sushi.\\\\n 98.7k followers \\\\u00b7 95 following\\\\nFollowed by antfu and 1 more\\\\nSingapore\\\\nhttp://evanyou.me\\\\n@youyuxi\\\\nSponsors\\\\n+219\\\\nSponsoring\\\\nAchievements\\\\nx3\\\\nx4\\\\nx3\\\\nx4\\\\nBetaSend feedback\\\\nOrganizations\\\\n   \\\\nBlock or Report\\\\nPinned\\\\n vuejs/core Public\\\\n\\\\n\\\\ud83d\\\\udd96 Vue.js is a progressive, incrementally-adoptable JavaScript framework for building UI on the web.\\\\n\\\\n TypeScript  44.2k  7.8k\\\\n\\\\n vitejs/vite Public\\\\n\\\\nNext generation frontend tooling. It\\'s fast!\\\\n\\\\n TypeScript  64.3k  5.7k\\\\n\\\\n vuejs/vitepress Public\\\\n\\\\nVite & Vue powered static site generator.\\\\n\\\\n TypeScript  11k  1.8k\\\\n\\\\n rolldown/rolldown Public\\\\n\\\\nFast Rust bundler for JavaScript with Rollup-compatible API.\\\\n\\\\n Rust  6.3k  368\\\\n\\\\n vuejs/vue Public\\\\n\\\\nThis is the repo for Vue 2. For Vue 3, go to https://github.com/vuejs/core\\\\n\\\\n TypeScript  207k  33.6k\\\\n\\\\n vuejs/petite-vue Public\\\\n\\\\n6kb subset of Vue optimized for progressive enhancement\\\\n\\\\n TypeScript  8.7k  349\\\\n\\\\n2,194 contributions in the last year\\\\nContribution Graph\\\\nDay of Week\\\\n\\\\t\\\\nApril\\\\nApr\\\\n\\\\t\\\\nMay\\\\nMay\\\\n\\\\t\\\\nJune\\\\nJun\\\\n\\\\t\\\\nJuly\\\\nJul\\\\n\\\\t\\\\nAugust\\\\nAug\\\\n\\\\t\\\\nSeptember\\\\nSep\\\\n\\\\t\\\\nOctober\\\\nOct\\\\n\\\\t\\\\nNovember\\\\nNov\\\\n\\\\t\\\\nDecember\\\\nDec\\\\n\\\\t\\\\nJanuary\\\\nJan\\\\n\\\\t\\\\nFebruary\\\\nFeb\\\\n\\\\t\\\\nMarch\\\\nMar\\\\n\\\\n\\\\nSunday\\\\nSun\\\\n\\\\t\\\\t\\\\t\\\\t\\\\t\\\\t\\\\t\\\\t\\\\t\\\\t\\\\t\\\\t\\\\t\\\\t\\\\t\\\\t\\\\t\\\\t\\\\t\\\\t\\\\t\\\\t\\\\t\\\\t\\\\t\\\\t\\\\t\\\\t\\\\t\\\\t\\\\t\\\\t\\\\t\\\\t\\\\t\\\\t\\\\t\\\\t\\\\t\\\\t\\\\t\\\\t\\\\t\\\\t\\\\t\\\\t\\\\t\\\\t\\\\t\\\\t\\\\t\\\\t\\\\t\\\\n\\\\nMonday\\\\nMon\\\\n\\\\t\\\\t\\\\t\\\\t\\\\t\\\\t\\\\t\\\\t\\\\t\\\\t\\\\t\\\\t\\\\t\\\\t\\\\t\\\\t\\\\t\\\\t\\\\t\\\\t\\\\t\\\\t\\\\t\\\\t\\\\t\\\\t\\\\t\\\\t\\\\t\\\\t\\\\t\\\\t\\\\t\\\\t\\\\t\\\\t\\\\t\\\\t\\\\t\\\\t\\\\t\\\\t\\\\t\\\\t\\\\t\\\\t\\\\t\\\\t\\\\t\\\\t\\\\t\\\\t\\\\t\\\\n\\\\nTuesday\\\\nTue\\\\n\\\\t\\\\t\\\\t\\\\t\\\\t\\\\t\\\\t\\\\t\\\\t\\\\t\\\\t\\\\t\\\\t\\\\t\\\\t\\\\t\\\\t\\\\t\\\\t\\\\t\\\\t\\\\t\\\\t\\\\t\\\\t\\\\t\\\\t\\\\t\\\\t\\\\t\\\\t\\\\t\\\\t\\\\t\\\\t\\\\t\\\\t\\\\t\\\\t\\\\t\\\\t\\\\t\\\\t\\\\t\\\\t\\\\t\\\\t\\\\t\\\\t\\\\t\\\\t\\\\t\\\\t\\\\n\\\\nWednesday\\\\nWed\\\\n\\\\t\\\\t\\\\t\\\\t\\\\t\\\\t\\\\t\\\\t\\\\t\\\\t\\\\t\\\\t\\\\t\\\\t\\\\t\\\\t\\\\t\\\\t\\\\t\\\\t\\\\t\\\\t\\\\t\\\\t\\\\t\\\\t\\\\t\\\\t\\\\t\\\\t\\\\t\\\\t\\\\t\\\\t\\\\t\\\\t\\\\t\\\\t\\\\t\\\\t\\\\t\\\\t\\\\t\\\\t\\\\t\\\\t\\\\t\\\\t\\\\t\\\\t\\\\t\\\\t\\\\t\\\\n\\\\nThursday\\\\nThu\\\\n\\\\t\\\\t\\\\t\\\\t\\\\t\\\\t\\\\t\\\\t\\\\t\\\\t\\\\t\\\\t\\\\t\\\\t\\\\t\\\\t\\\\t\\\\t\\\\t\\\\t\\\\t\\\\t\\\\t\\\\t\\\\t\\\\t\\\\t\\\\t\\\\t\\\\t\\\\t\\\\t\\\\t\\\\t\\\\t\\\\t\\\\t\\\\t\\\\t\\\\t\\\\t\\\\t\\\\t\\\\t\\\\t\\\\t\\\\t\\\\t\\\\t\\\\t\\\\t\\\\t\\\\t\\\\n\\\\nFriday\\\\nFri\\\\n\\\\t\\\\t\\\\t\\\\t\\\\t\\\\t\\\\t\\\\t\\\\t\\\\t\\\\t\\\\t\\\\t\\\\t\\\\t\\\\t\\\\t\\\\t\\\\t\\\\t\\\\t\\\\t\\\\t\\\\t\\\\t\\\\t\\\\t\\\\t\\\\t\\\\t\\\\t\\\\t\\\\t\\\\t\\\\t\\\\t\\\\t\\\\t\\\\t\\\\t\\\\t\\\\t\\\\t\\\\t\\\\t\\\\t\\\\t\\\\t\\\\t\\\\t\\\\t\\\\t\\\\t\\\\n\\\\nSaturday\\\\nSat\\\\n\\\\t\\\\t\\\\t\\\\t\\\\t\\\\t\\\\t\\\\t\\\\t\\\\t\\\\t\\\\t\\\\t\\\\t\\\\t\\\\t\\\\t\\\\t\\\\t\\\\t\\\\t\\\\t\\\\t\\\\t\\\\t\\\\t\\\\t\\\\t\\\\t\\\\t\\\\t\\\\t\\\\t\\\\t\\\\t\\\\t\\\\t\\\\t\\\\t\\\\t\\\\t\\\\t\\\\t\\\\t\\\\t\\\\t\\\\t\\\\t\\\\t\\\\t\\\\t\\\\t\\\\t\\\\nLearn how we count contributions\\\\nLess\\\\nNo contributions.\\\\nLow contributions.\\\\nMedium-low contributions.\\\\nMedium-high contributions.\\\\nHigh contributions.\\\\nMore\\\\n @vuejs\\\\n @vuejs-translations\\\\n @vitejs\\\\n More\\\\nActivity overview\\\\nContributed to vuejs/core, vuejs/core-vapor, vuejs-translations/docs-zh-cn and 50 other repositories\\\\n3%\\\\nCode review\\\\n1%\\\\nIssues\\\\n1%\\\\nPull requests\\\\n95%\\\\nCommits\\\\nYear: 2024\\\\nContribution activity\\\\nApril 2024\\\\nCreated 1 commit in 1 repository\\\\nrolldown/rolldown\\\\n1 commit\\\\nCreated 1 repository\\\\n yyx990803/proposal-signals\\\\n TypeScript\\\\nThis contribution was made on Apr 1\\\\nApr 1\\\\nCreated a pull request in proposal-signals/proposal-signals that received 2 comments\\\\nApr 1\\\\nfix(polyfill): missing self argument for Watcher notify callback type\\\\n\\\\nnew Signal.subtle.Watcher(self => { // ^ this currently lacks type });\\\\n\\\\n+1 \\\\u22121  lines changed \\\\u2022\\\\n2 comments\\\\nCreated an issue in sapphi-red/parallel-js-plugin-experiment that received 5 comments\\\\nApr 1\\\\nThoughts on thread-unsafe plugin usage patterns\\\\n\\\\nContext: https://github.com/sapphi-red/parallel-js-plugin-experiment/blob/main/research-for-design.md It\\'s great that many common caes can be sol\\\\u2026\\\\n\\\\n5 comments\\\\n1 contribution in private repositories\\\\nApr 1\\\\nShow more activity\\\\n\\\\nSeeing something unexpected? Take a look at the GitHub profile guide.\\\\n\\\\nFooter\\\\n\\\\u00a9 2024 GitHub,\\\\u00a0Inc.\\\\nFooter navigation\\\\nTerms\\\\nPrivacy\\\\nSecurity\\\\nStatus\\\\nDocs\\\\nContact\\\\nManage cookies\\\\nDo not share my personal information\"}, {\"id\": \"antfu\", \"content\": \"\\'Skip to content\\\\nantfu\\\\nOverview\\\\nRepositories\\\\n336\\\\nProjects\\\\nPackages\\\\nStars\\\\n1.6k\\\\nSponsoring\\\\n17\\\\nAnthony Fu\\\\nantfu \\\\u00b7 he/him\\\\n Sponsor\\\\nA ship in harbor is safe, but that is not what ships are built for.\\\\n 29.2k followers \\\\u00b7 343 following\\\\nFollowed by mesak and 1 more\\\\n@nuxt\\\\nundefined\\\\n12:40 - 6h behind\\\\nhi@antfu.me\\\\nhttps://antfu.me\\\\n@antfu@m.webtoo.ls\\\\n@antfu7\\\\nantfu7\\\\nc/AnthonyFu7\\\\nSponsors\\\\n+240\\\\nSponsoring\\\\n+4\\\\nAchievements\\\\nx4\\\\nx4\\\\nx4\\\\nx4\\\\nBetaSend feedback\\\\nOrganizations\\\\n                           \\\\nBlock or Report\\\\nantfu/README.md\\\\n\\\\nme . blog . projects . talks . podcasts . compform . mastodon . tweets . discord . instagram . sponsor\\\\n\\\\nPinned\\\\n nuxt/nuxt Public\\\\n\\\\nThe Intuitive Vue Framework.\\\\n\\\\n TypeScript  51.6k  4.7k\\\\n\\\\n vitest-dev/vitest Public\\\\n\\\\nNext generation testing framework powered by Vite.\\\\n\\\\n TypeScript  11.7k  1k\\\\n\\\\n slidevjs/slidev Public\\\\n\\\\nPresentation Slides for Developers\\\\n\\\\n TypeScript  30.9k  1.2k\\\\n\\\\n unocss/unocss Public\\\\n\\\\nThe instant on-demand atomic CSS engine.\\\\n\\\\n TypeScript  15.3k  755\\\\n\\\\n nuxt/devtools Public\\\\n\\\\nUnleash Nuxt Developer Experience\\\\n\\\\n Vue  2.7k  146\\\\n\\\\n vueuse/vueuse Public\\\\n\\\\nCollection of essential Vue Composition Utilities for Vue 2 and 3\\\\n\\\\n TypeScript  18.6k  2.3k\\\\n\\\\n8,479 contributions in the last year\\\\nContribution Graph\\\\nDay of Week\\\\n\\\\t\\\\nApril\\\\nApr\\\\n\\\\t\\\\nMay\\\\nMay\\\\n\\\\t\\\\nJune\\\\nJun\\\\n\\\\t\\\\nJuly\\\\nJul\\\\n\\\\t\\\\nAugust\\\\nAug\\\\n\\\\t\\\\nSeptember\\\\nSep\\\\n\\\\t\\\\nOctober\\\\nOct\\\\n\\\\t\\\\nNovember\\\\nNov\\\\n\\\\t\\\\nDecember\\\\nDec\\\\n\\\\t\\\\nJanuary\\\\nJan\\\\n\\\\t\\\\nFebruary\\\\nFeb\\\\n\\\\t\\\\nMarch\\\\nMar\\\\n\\\\n\\\\nSunday\\\\nSun\\\\n\\\\t\\\\t\\\\t\\\\t\\\\t\\\\t\\\\t\\\\t\\\\t\\\\t\\\\t\\\\t\\\\t\\\\t\\\\t\\\\t\\\\t\\\\t\\\\t\\\\t\\\\t\\\\t\\\\t\\\\t\\\\t\\\\t\\\\t\\\\t\\\\t\\\\t\\\\t\\\\t\\\\t\\\\t\\\\t\\\\t\\\\t\\\\t\\\\t\\\\t\\\\t\\\\t\\\\t\\\\t\\\\t\\\\t\\\\t\\\\t\\\\t\\\\t\\\\t\\\\t\\\\t\\\\n\\\\nMonday\\\\nMon\\\\n\\\\t\\\\t\\\\t\\\\t\\\\t\\\\t\\\\t\\\\t\\\\t\\\\t\\\\t\\\\t\\\\t\\\\t\\\\t\\\\t\\\\t\\\\t\\\\t\\\\t\\\\t\\\\t\\\\t\\\\t\\\\t\\\\t\\\\t\\\\t\\\\t\\\\t\\\\t\\\\t\\\\t\\\\t\\\\t\\\\t\\\\t\\\\t\\\\t\\\\t\\\\t\\\\t\\\\t\\\\t\\\\t\\\\t\\\\t\\\\t\\\\t\\\\t\\\\t\\\\t\\\\t\\\\n\\\\nTuesday\\\\nTue\\\\n\\\\t\\\\t\\\\t\\\\t\\\\t\\\\t\\\\t\\\\t\\\\t\\\\t\\\\t\\\\t\\\\t\\\\t\\\\t\\\\t\\\\t\\\\t\\\\t\\\\t\\\\t\\\\t\\\\t\\\\t\\\\t\\\\t\\\\t\\\\t\\\\t\\\\t\\\\t\\\\t\\\\t\\\\t\\\\t\\\\t\\\\t\\\\t\\\\t\\\\t\\\\t\\\\t\\\\t\\\\t\\\\t\\\\t\\\\t\\\\t\\\\t\\\\t\\\\t\\\\t\\\\t\\\\n\\\\nWednesday\\\\nWed\\\\n\\\\t\\\\t\\\\t\\\\t\\\\t\\\\t\\\\t\\\\t\\\\t\\\\t\\\\t\\\\t\\\\t\\\\t\\\\t\\\\t\\\\t\\\\t\\\\t\\\\t\\\\t\\\\t\\\\t\\\\t\\\\t\\\\t\\\\t\\\\t\\\\t\\\\t\\\\t\\\\t\\\\t\\\\t\\\\t\\\\t\\\\t\\\\t\\\\t\\\\t\\\\t\\\\t\\\\t\\\\t\\\\t\\\\t\\\\t\\\\t\\\\t\\\\t\\\\t\\\\t\\\\t\\\\n\\\\nThursday\\\\nThu\\\\n\\\\t\\\\t\\\\t\\\\t\\\\t\\\\t\\\\t\\\\t\\\\t\\\\t\\\\t\\\\t\\\\t\\\\t\\\\t\\\\t\\\\t\\\\t\\\\t\\\\t\\\\t\\\\t\\\\t\\\\t\\\\t\\\\t\\\\t\\\\t\\\\t\\\\t\\\\t\\\\t\\\\t\\\\t\\\\t\\\\t\\\\t\\\\t\\\\t\\\\t\\\\t\\\\t\\\\t\\\\t\\\\t\\\\t\\\\t\\\\t\\\\t\\\\t\\\\t\\\\t\\\\t\\\\n\\\\nFriday\\\\nFri\\\\n\\\\t\\\\t\\\\t\\\\t\\\\t\\\\t\\\\t\\\\t\\\\t\\\\t\\\\t\\\\t\\\\t\\\\t\\\\t\\\\t\\\\t\\\\t\\\\t\\\\t\\\\t\\\\t\\\\t\\\\t\\\\t\\\\t\\\\t\\\\t\\\\t\\\\t\\\\t\\\\t\\\\t\\\\t\\\\t\\\\t\\\\t\\\\t\\\\t\\\\t\\\\t\\\\t\\\\t\\\\t\\\\t\\\\t\\\\t\\\\t\\\\t\\\\t\\\\t\\\\t\\\\t\\\\n\\\\nSaturday\\\\nSat\\\\n\\\\t\\\\t\\\\t\\\\t\\\\t\\\\t\\\\t\\\\t\\\\t\\\\t\\\\t\\\\t\\\\t\\\\t\\\\t\\\\t\\\\t\\\\t\\\\t\\\\t\\\\t\\\\t\\\\t\\\\t\\\\t\\\\t\\\\t\\\\t\\\\t\\\\t\\\\t\\\\t\\\\t\\\\t\\\\t\\\\t\\\\t\\\\t\\\\t\\\\t\\\\t\\\\t\\\\t\\\\t\\\\t\\\\t\\\\t\\\\t\\\\t\\\\t\\\\t\\\\t\\\\t\\\\nLearn how we count contributions\\\\nLess\\\\nNo contributions.\\\\nLow contributions.\\\\nMedium-low contributions.\\\\nMedium-high contributions.\\\\nHigh contributions.\\\\nMore\\\\n @nuxt\\\\n @shikijs\\\\n @slidevjs\\\\n More\\\\nActivity overview\\\\nContributed to shikijs/shiki, unocss/unocss, slidevjs/slidev and 262 other repositories\\\\n11%\\\\nCode review\\\\n1%\\\\nIssues\\\\n4%\\\\nPull requests\\\\n84%\\\\nCommits\\\\nYear: 2024\\\\nContribution activity\\\\nApril 2024\\\\nCreated 112 commits in 23 repositories\\\\nCreated 3 repositories\\\\n antfu/config-array\\\\n JavaScript\\\\nThis contribution was made on Apr 2\\\\nApr 2\\\\n antfu/eslint.org\\\\n JavaScript\\\\nThis contribution was made on Apr 1\\\\nApr 1\\\\n antfu/eslint\\\\n JavaScript\\\\nThis contribution was made on Apr 1\\\\nApr 1\\\\nCreated a pull request in eslint/eslint.org that received 21 comments\\\\nApr 1\\\\nfeat: blog: Introducing ESLint Config Inspector\\\\n\\\\nPrerequisites checklist I have read the contributing guidelines. What is the purpose of this pull request? What changes did you make? (Give an \\\\u2026\\\\n\\\\n+72 \\\\u22120  lines changed \\\\u2022\\\\n21 comments\\\\nOpened 12 other pull requests in 6 repositories\\\\neslint/config-inspector\\\\n4 merged\\\\nnuxt/eslint\\\\n3 merged\\\\nnuxt/nuxt\\\\n2 merged\\\\nslidevjs/slidev\\\\n1 merged\\\\nhumanwhocodes/config-array\\\\n1 merged\\\\neslint/eslint\\\\n1 merged\\\\nReviewed 12 pull requests in 7 repositories\\\\n1 contribution in private repositories\\\\nApr 5\\\\nShow more activity\\\\n\\\\nSeeing something unexpected? Take a look at the GitHub profile guide.\\\\n\\\\nFooter\\\\n\\\\u00a9 2024 GitHub,\\\\u00a0Inc.\\\\nFooter navigation\\\\nTerms\\\\nPrivacy\\\\nSecurity\\\\nStatus\\\\nDocs\\\\nContact\\\\nManage cookies\\\\nDo not share my personal information\\\\nantfu (Anthony Fu)\"}, {\"id\": \"egoist\", \"content\": \"Skip to content\\\\nlencx\\\\nOverview\\\\nRepositories\\\\n127\\\\nProjects\\\\nPackages\\\\nStars\\\\n1.7k\\\\n\\\\u303d\\\\ufe0f\\\\n{\\\\u6298\\\\u817e \\\\u21cc \\\\u8ff7\\\\u832b \\\\u21cc \\\\u601d\\\\u8003]ing\\\\uff0c\\\\u5728\\\\u8def\\\\u4e0a...\\\\nlencx\\\\nlencx\\\\nCreator of @rwasm.\\\\n 3.9k followers \\\\u00b7 211 following\\\\nShanghai, China\\\\nhttps://nofwl.com\\\\n@lencx_\\\\n@lencx\\\\nAchievements\\\\nx4\\\\nx2\\\\nBetaSend feedback\\\\nHighlights\\\\nDeveloper Program Member\\\\nOrganizations\\\\n  \\\\nBlock or Report\\\\nPinned\\\\n Noi Public\\\\n\\\\n\\\\ud83d\\\\ude80 Power Your World with AI - Explore, Extend, Empower.\\\\n\\\\n JavaScript  3.4k  232\\\\n\\\\n ChatGPT Public\\\\n\\\\n\\\\ud83d\\\\udd2e ChatGPT Desktop Application (Mac, Windows and Linux)\\\\n\\\\n Rust  46.7k  5.4k\\\\n\\\\n nofwl Public\\\\n\\\\nNoFWL Desktop Application\\\\n\\\\n Rust  4.2k  379\\\\n\\\\n rwasm/rsw-rs Public\\\\n\\\\n\\\\ud83e\\\\udd9e wasm-pack based build tool\\\\n\\\\n Rust  122  9\\\\n\\\\n sd-webui-qrcode Public\\\\n\\\\n\\\\ud83d\\\\udd32 Stable Diffusion WebUI\\'s QR Code Generator\\\\n\\\\n Python  17  3\\\\n\\\\n tauri-tutorial Public\\\\n\\\\n\\\\ud83d\\\\udcda Tauri Tutorial (\\\\u7cfb\\\\u5217\\\\u6559\\\\u7a0b - \\\\u6253\\\\u9020\\\\u5c5e\\\\u4e8e\\\\u81ea\\\\u5df1\\\\u7684\\\\u8de8\\\\u7aef\\\\u5e94\\\\u7528)\\\\n\\\\n TypeScript  509  46\\\\n\\\\n768 contributions in the last year\\\\nContribution Graph\\\\nDay of Week\\\\n\\\\t\\\\nApril\\\\nApr\\\\n\\\\t\\\\nMay\\\\nMay\\\\n\\\\t\\\\nJune\\\\nJun\\\\n\\\\t\\\\nJuly\\\\nJul\\\\n\\\\t\\\\nAugust\\\\nAug\\\\n\\\\t\\\\nSeptember\\\\nSep\\\\n\\\\t\\\\nOctober\\\\nOct\\\\n\\\\t\\\\nNovember\\\\nNov\\\\n\\\\t\\\\nDecember\\\\nDec\\\\n\\\\t\\\\nJanuary\\\\nJan\\\\n\\\\t\\\\nFebruary\\\\nFeb\\\\n\\\\t\\\\nMarch\\\\nMar\\\\n\\\\n\\\\nSunday\\\\nSun\\\\n\\\\t\\\\t\\\\t\\\\t\\\\t\\\\t\\\\t\\\\t\\\\t\\\\t\\\\t\\\\t\\\\t\\\\t\\\\t\\\\t\\\\t\\\\t\\\\t\\\\t\\\\t\\\\t\\\\t\\\\t\\\\t\\\\t\\\\t\\\\t\\\\t\\\\t\\\\t\\\\t\\\\t\\\\t\\\\t\\\\t\\\\t\\\\t\\\\t\\\\t\\\\t\\\\t\\\\t\\\\t\\\\t\\\\t\\\\t\\\\t\\\\t\\\\t\\\\t\\\\t\\\\t\\\\n\\\\nMonday\\\\nMon\\\\n\\\\t\\\\t\\\\t\\\\t\\\\t\\\\t\\\\t\\\\t\\\\t\\\\t\\\\t\\\\t\\\\t\\\\t\\\\t\\\\t\\\\t\\\\t\\\\t\\\\t\\\\t\\\\t\\\\t\\\\t\\\\t\\\\t\\\\t\\\\t\\\\t\\\\t\\\\t\\\\t\\\\t\\\\t\\\\t\\\\t\\\\t\\\\t\\\\t\\\\t\\\\t\\\\t\\\\t\\\\t\\\\t\\\\t\\\\t\\\\t\\\\t\\\\t\\\\t\\\\t\\\\t\\\\n\\\\nTuesday\\\\nTue\\\\n\\\\t\\\\t\\\\t\\\\t\\\\t\\\\t\\\\t\\\\t\\\\t\\\\t\\\\t\\\\t\\\\t\\\\t\\\\t\\\\t\\\\t\\\\t\\\\t\\\\t\\\\t\\\\t\\\\t\\\\t\\\\t\\\\t\\\\t\\\\t\\\\t\\\\t\\\\t\\\\t\\\\t\\\\t\\\\t\\\\t\\\\t\\\\t\\\\t\\\\t\\\\t\\\\t\\\\t\\\\t\\\\t\\\\t\\\\t\\\\t\\\\t\\\\t\\\\t\\\\t\\\\t\\\\n\\\\nWednesday\\\\nWed\\\\n\\\\t\\\\t\\\\t\\\\t\\\\t\\\\t\\\\t\\\\t\\\\t\\\\t\\\\t\\\\t\\\\t\\\\t\\\\t\\\\t\\\\t\\\\t\\\\t\\\\t\\\\t\\\\t\\\\t\\\\t\\\\t\\\\t\\\\t\\\\t\\\\t\\\\t\\\\t\\\\t\\\\t\\\\t\\\\t\\\\t\\\\t\\\\t\\\\t\\\\t\\\\t\\\\t\\\\t\\\\t\\\\t\\\\t\\\\t\\\\t\\\\t\\\\t\\\\t\\\\t\\\\t\\\\n\\\\nThursday\\\\nThu\\\\n\\\\t\\\\t\\\\t\\\\t\\\\t\\\\t\\\\t\\\\t\\\\t\\\\t\\\\t\\\\t\\\\t\\\\t\\\\t\\\\t\\\\t\\\\t\\\\t\\\\t\\\\t\\\\t\\\\t\\\\t\\\\t\\\\t\\\\t\\\\t\\\\t\\\\t\\\\t\\\\t\\\\t\\\\t\\\\t\\\\t\\\\t\\\\t\\\\t\\\\t\\\\t\\\\t\\\\t\\\\t\\\\t\\\\t\\\\t\\\\t\\\\t\\\\t\\\\t\\\\t\\\\t\\\\n\\\\nFriday\\\\nFri\\\\n\\\\t\\\\t\\\\t\\\\t\\\\t\\\\t\\\\t\\\\t\\\\t\\\\t\\\\t\\\\t\\\\t\\\\t\\\\t\\\\t\\\\t\\\\t\\\\t\\\\t\\\\t\\\\t\\\\t\\\\t\\\\t\\\\t\\\\t\\\\t\\\\t\\\\t\\\\t\\\\t\\\\t\\\\t\\\\t\\\\t\\\\t\\\\t\\\\t\\\\t\\\\t\\\\t\\\\t\\\\t\\\\t\\\\t\\\\t\\\\t\\\\t\\\\t\\\\t\\\\t\\\\t\\\\n\\\\nSaturday\\\\nSat\\\\n\\\\t\\\\t\\\\t\\\\t\\\\t\\\\t\\\\t\\\\t\\\\t\\\\t\\\\t\\\\t\\\\t\\\\t\\\\t\\\\t\\\\t\\\\t\\\\t\\\\t\\\\t\\\\t\\\\t\\\\t\\\\t\\\\t\\\\t\\\\t\\\\t\\\\t\\\\t\\\\t\\\\t\\\\t\\\\t\\\\t\\\\t\\\\t\\\\t\\\\t\\\\t\\\\t\\\\t\\\\t\\\\t\\\\t\\\\t\\\\t\\\\t\\\\t\\\\t\\\\t\\\\t\\\\nLearn how we count contributions\\\\nLess\\\\nNo contributions.\\\\nLow contributions.\\\\nMedium-low contributions.\\\\nMedium-high contributions.\\\\nHigh contributions.\\\\nMore\\\\nYear: 2024\\\\nContribution activity\\\\nApril 2024\\\\nCreated 8 commits in 2 repositories\\\\nlencx/gg\\\\n6 commits\\\\nlencx/Noi\\\\n2 commits\\\\n4 contributions in private repositories\\\\nApr 1 \\\\u2013 Apr 5\\\\nShow more activity\\\\n\\\\nSeeing something unexpected? Take a look at the GitHub profile guide.\\\\n\\\\nFooter\\\\n\\\\u00a9 2024 GitHub,\\\\u00a0Inc.\\\\nFooter navigation\\\\nTerms\\\\nPrivacy\\\\nSecurity\\\\nStatus\\\\nDocs\\\\nContact\\\\nManage cookies\\\\nDo not share my personal information\\\\n\\\\u303d\\\\ufe0f {\\\\u6298\\\\u817e \\\\u21cc \\\\u8ff7\\\\u832b \\\\u21cc \\\\u601d\\\\u8003]ing\\\\uff0c\\\\u5728\\\\u8def\\\\u4e0a... lencx lencx Creator of @rwasm. Shanghai, China Owns this repository Committed to this repository in the past month Answered 4 discussions in lencx/ChatGPT Started 4 discussions in lencx/ChatGPT Press escape to close this hovercard\"}, {\"id\": \"acheong87\", \"content\": \"Skip to content\\\\nacheong08\\\\nOverview\\\\nRepositories\\\\n60\\\\nProjects\\\\nPackages\\\\n7\\\\nStars\\\\n383\\\\nSponsoring\\\\n\\\\ud83c\\\\udfaf\\\\nFocusing\\\\nAntonio Cheong\\\\nacheong08\\\\n Sponsor\\\\nBroke university student\\\\n 4.9k followers \\\\u00b7 65 following\\\\nCardiff University\\\\nYour computer\\\\n05:36 - 7h behind\\\\nacheong@duti.dev\\\\n@acheong08\\\\nhttps://matrix.to/#/@acheong08:matrix.duti.me\\\\nAchievements\\\\nx3\\\\nx3\\\\nx3\\\\nx4\\\\nBetaSend feedback\\\\nHighlights\\\\n PRO\\\\nOrganizations\\\\nBlock or Report\\\\nacheong08/README.md\\\\nHello world\\\\n\\\\nOpen an issue in the appropriate repository or here for any complaints about me as a human.\\\\n\\\\nFeel free to open a PR anywhere\\\\nPinned\\\\n obi-sync Public archive\\\\n\\\\nReverse engineering of the native Obsidian sync and publish server\\\\n\\\\n Go  991  60\\\\n\\\\n vectordb Public\\\\n\\\\nA simple vector database: Text encoding, semantic search, document storage\\\\n\\\\n Go  80  7\\\\n\\\\n ChatGPT Public archive\\\\n\\\\nReverse engineered ChatGPT API\\\\n\\\\n Python  27.9k  4.5k\\\\n\\\\n CVE-2022-26726-POC Public archive\\\\n\\\\nTCC Bypass\\\\n\\\\n Objective-C  19  3\\\\n\\\\n funcaptcha Public\\\\n\\\\nForked from flyingpot/funcaptcha\\\\n\\\\nInteracting with Arkose Lab\\'s captcha\\\\n\\\\n Go  53  17\\\\n\\\\n575 contributions in the last year\\\\nContribution Graph\\\\nDay of Week\\\\n\\\\t\\\\nApril\\\\nApr\\\\n\\\\t\\\\nMay\\\\nMay\\\\n\\\\t\\\\nJune\\\\nJun\\\\n\\\\t\\\\nJuly\\\\nJul\\\\n\\\\t\\\\nAugust\\\\nAug\\\\n\\\\t\\\\nSeptember\\\\nSep\\\\n\\\\t\\\\nOctober\\\\nOct\\\\n\\\\t\\\\nNovember\\\\nNov\\\\n\\\\t\\\\nDecember\\\\nDec\\\\n\\\\t\\\\nJanuary\\\\nJan\\\\n\\\\t\\\\nFebruary\\\\nFeb\\\\n\\\\t\\\\nMarch\\\\nMar\\\\n\\\\n\\\\nSunday\\\\nSun\\\\n\\\\t\\\\t\\\\t\\\\t\\\\t\\\\t\\\\t\\\\t\\\\t\\\\t\\\\t\\\\t\\\\t\\\\t\\\\t\\\\t\\\\t\\\\t\\\\t\\\\t\\\\t\\\\t\\\\t\\\\t\\\\t\\\\t\\\\t\\\\t\\\\t\\\\t\\\\t\\\\t\\\\t\\\\t\\\\t\\\\t\\\\t\\\\t\\\\t\\\\t\\\\t\\\\t\\\\t\\\\t\\\\t\\\\t\\\\t\\\\t\\\\t\\\\t\\\\t\\\\t\\\\t\\\\n\\\\nMonday\\\\nMon\\\\n\\\\t\\\\t\\\\t\\\\t\\\\t\\\\t\\\\t\\\\t\\\\t\\\\t\\\\t\\\\t\\\\t\\\\t\\\\t\\\\t\\\\t\\\\t\\\\t\\\\t\\\\t\\\\t\\\\t\\\\t\\\\t\\\\t\\\\t\\\\t\\\\t\\\\t\\\\t\\\\t\\\\t\\\\t\\\\t\\\\t\\\\t\\\\t\\\\t\\\\t\\\\t\\\\t\\\\t\\\\t\\\\t\\\\t\\\\t\\\\t\\\\t\\\\t\\\\t\\\\t\\\\t\\\\n\\\\nTuesday\\\\nTue\\\\n\\\\t\\\\t\\\\t\\\\t\\\\t\\\\t\\\\t\\\\t\\\\t\\\\t\\\\t\\\\t\\\\t\\\\t\\\\t\\\\t\\\\t\\\\t\\\\t\\\\t\\\\t\\\\t\\\\t\\\\t\\\\t\\\\t\\\\t\\\\t\\\\t\\\\t\\\\t\\\\t\\\\t\\\\t\\\\t\\\\t\\\\t\\\\t\\\\t\\\\t\\\\t\\\\t\\\\t\\\\t\\\\t\\\\t\\\\t\\\\t\\\\t\\\\t\\\\t\\\\t\\\\t\\\\n\\\\nWednesday\\\\nWed\\\\n\\\\t\\\\t\\\\t\\\\t\\\\t\\\\t\\\\t\\\\t\\\\t\\\\t\\\\t\\\\t\\\\t\\\\t\\\\t\\\\t\\\\t\\\\t\\\\t\\\\t\\\\t\\\\t\\\\t\\\\t\\\\t\\\\t\\\\t\\\\t\\\\t\\\\t\\\\t\\\\t\\\\t\\\\t\\\\t\\\\t\\\\t\\\\t\\\\t\\\\t\\\\t\\\\t\\\\t\\\\t\\\\t\\\\t\\\\t\\\\t\\\\t\\\\t\\\\t\\\\t\\\\t\\\\n\\\\nThursday\\\\nThu\\\\n\\\\t\\\\t\\\\t\\\\t\\\\t\\\\t\\\\t\\\\t\\\\t\\\\t\\\\t\\\\t\\\\t\\\\t\\\\t\\\\t\\\\t\\\\t\\\\t\\\\t\\\\t\\\\t\\\\t\\\\t\\\\t\\\\t\\\\t\\\\t\\\\t\\\\t\\\\t\\\\t\\\\t\\\\t\\\\t\\\\t\\\\t\\\\t\\\\t\\\\t\\\\t\\\\t\\\\t\\\\t\\\\t\\\\t\\\\t\\\\t\\\\t\\\\t\\\\t\\\\t\\\\t\\\\n\\\\nFriday\\\\nFri\\\\n\\\\t\\\\t\\\\t\\\\t\\\\t\\\\t\\\\t\\\\t\\\\t\\\\t\\\\t\\\\t\\\\t\\\\t\\\\t\\\\t\\\\t\\\\t\\\\t\\\\t\\\\t\\\\t\\\\t\\\\t\\\\t\\\\t\\\\t\\\\t\\\\t\\\\t\\\\t\\\\t\\\\t\\\\t\\\\t\\\\t\\\\t\\\\t\\\\t\\\\t\\\\t\\\\t\\\\t\\\\t\\\\t\\\\t\\\\t\\\\t\\\\t\\\\t\\\\t\\\\t\\\\t\\\\n\\\\nSaturday\\\\nSat\\\\n\\\\t\\\\t\\\\t\\\\t\\\\t\\\\t\\\\t\\\\t\\\\t\\\\t\\\\t\\\\t\\\\t\\\\t\\\\t\\\\t\\\\t\\\\t\\\\t\\\\t\\\\t\\\\t\\\\t\\\\t\\\\t\\\\t\\\\t\\\\t\\\\t\\\\t\\\\t\\\\t\\\\t\\\\t\\\\t\\\\t\\\\t\\\\t\\\\t\\\\t\\\\t\\\\t\\\\t\\\\t\\\\t\\\\t\\\\t\\\\t\\\\t\\\\t\\\\t\\\\t\\\\t\\\\nLearn how we count contributions\\\\nLess\\\\nNo contributions.\\\\nLow contributions.\\\\nMedium-low contributions.\\\\nMedium-high contributions.\\\\nHigh contributions.\\\\nMore\\\\n @gin-gonic\\\\n @matrix-org\\\\n @darlinghq\\\\n More\\\\nActivity overview\\\\nContributed to acheong08/EdgeGPT, acheong08/ChatGPT, acheong08/djotz and 82 other repositories\\\\n39%\\\\nCode review\\\\n10%\\\\nIssues\\\\n20%\\\\nPull requests\\\\n31%\\\\nCommits\\\\nYear: 2024\\\\nContribution activity\\\\nApril 2024\\\\nCreated 1 commit in 1 repository\\\\nacheong08/djotz\\\\n1 commit\\\\nOpened 1 issue in 1 repository\\\\nStunkymonkey/nautilus-open-any-terminal\\\\n1 open\\\\n Fails with afc paths\\\\nThis contribution was made on Apr 4\\\\nApr 4\\\\n16 contributions in private repositories\\\\nApr 1 \\\\u2013 Apr 6\\\\nShow more activity\\\\n\\\\nSeeing something unexpected? Take a look at the GitHub profile guide.\\\\n\\\\nFooter\\\\n\\\\u00a9 2024 GitHub,\\\\u00a0Inc.\\\\nFooter navigation\\\\nTerms\\\\nPrivacy\\\\nSecurity\\\\nStatus\\\\nDocs\\\\nContact\\\\nManage cookies\\\\nDo not share my personal information\\\\n\\\\ud83c\\\\udfaf Focusing acheong08 Antonio Cheong Broke university student PRO Your computer 05:36 (UTC +01:00) Sponsor Owns this repository Answered 32 discussions in this repository Started 6 discussions in this repository Press escape to close this hovercard\"}, {\"id\": \"dirk1983\", \"content\": \"Skip to content\\\\ndirk1983\\\\nOverview\\\\nRepositories\\\\n15\\\\nProjects\\\\nPackages\\\\nStars\\\\n38\\\\ndirk1983\\\\n 109 followers \\\\u00b7 4 following\\\\nAchievements\\\\nx3\\\\nBetaSend feedback\\\\nBlock or Report\\\\nPopular repositories\\\\nchatgpt\\\\nPublic\\\\n\\\\n\\\\u6f14\\\\u793a\\\\u7ad9\\\\u73b0\\\\u5728\\\\u53ef\\\\u4ee5\\\\u514d\\\\u8d39\\\\u4f7f\\\\u7528ChatGPT\\\\u5bf9\\\\u8bdd\\\\u548c\\\\u753b\\\\u56fe\\\\u4e86\\\\u3002\\\\u5168\\\\u7f51\\\\u6700\\\\u6613\\\\u90e8\\\\u7f72\\\\uff0c\\\\u54cd\\\\u5e94\\\\u901f\\\\u5ea6\\\\u6700\\\\u5feb\\\\u7684ChatGPT\\\\u73af\\\\u5883\\\\u3002PHP\\\\u7248\\\\u8c03\\\\u7528OpenAI\\\\u63a5\\\\u53e3\\\\u8fdb\\\\u884c\\\\u95ee\\\\u7b54\\\\u548c\\\\u753b\\\\u56fe\\\\uff0c\\\\u91c7\\\\u7528Stream\\\\u6d41\\\\u6a21\\\\u5f0f\\\\u901a\\\\u4fe1\\\\uff0c\\\\u4e00\\\\u8fb9\\\\u751f\\\\u6210\\\\u4e00\\\\u8fb9\\\\u8f93\\\\u51fa\\\\u3002\\\\u524d\\\\u7aef\\\\u91c7\\\\u7528EventSource\\\\uff0c\\\\u652f\\\\u6301Markdown\\\\u683c\\\\u5f0f\\\\u89e3\\\\u6790\\\\uff0c\\\\u652f\\\\u6301\\\\u516c\\\\u5f0f\\\\u663e\\\\u793a\\\\uff0c\\\\u4ee3\\\\u7801\\\\u6709\\\\u7740\\\\u8272\\\\u5904\\\\u7406\\\\uff0c\\\\u652f\\\\u6301\\\\u753b\\\\u56fe\\\\u3002\\\\u9875\\\\u9762UI\\\\u7b80\\\\u6d01\\\\uff0c\\\\u652f\\\\u6301\\\\u4e0a\\\\u4e0b\\\\u6587\\\\u8fde\\\\u7eed\\\\u4f1a\\\\u8bdd\\\\u3002\\\\u6e90\\\\u7801\\\\u53ea\\\\u6709\\\\u51e0\\\\u4e2a\\\\u6587\\\\u4ef6\\\\uff0c\\\\u6ca1\\\\u7528\\\\u4efb\\\\u4f55\\\\u6846\\\\u67b6\\\\uff0c\\\\u652f\\\\u6301\\\\u6240\\\\u6709PHP\\\\u7248\\\\u672c\\\\uff0c\\\\u5168\\\\u90e8\\\\u5f00\\\\u6e90\\\\uff0c\\\\u6781\\\\u6613\\\\u4e8c\\\\u5f00\\\\u2026\\\\n\\\\n JavaScript  3k  801\\\\n\\\\nchatgpt_commercial\\\\nPublic\\\\n\\\\n\\\\u57fa\\\\u4e8eOpenAI\\\\u7684\\\\u63a5\\\\u53e3\\\\u8fdb\\\\u884c\\\\u95ee\\\\u7b54\\\\u7684\\\\u5546\\\\u4e1a\\\\u8fd0\\\\u8425\\\\u7248\\\\u3002\\\\u79d2\\\\u7ea7\\\\u56de\\\\u590d\\\\uff0c\\\\u652f\\\\u6301\\\\u4f1a\\\\u5458\\\\u7cfb\\\\u7edf\\\\uff0c\\\\u652f\\\\u6301\\\\u514d\\\\u8d39\\\\u4f53\\\\u9a8c\\\\u548c\\\\u4ed8\\\\u8d39\\\\u95ee\\\\u7b54\\\\uff0c\\\\u591aAPI_KEY\\\\u81ea\\\\u52a8\\\\u8f6e\\\\u8be2\\\\u5e76\\\\u5254\\\\u9664\\\\u65e0\\\\u6548\\\\u9879\\\\uff0c\\\\u652f\\\\u6301\\\\u6279\\\\u91cf\\\\u751f\\\\u6210\\\\u5145\\\\u503c\\\\u5361\\\\u5e76\\\\u5bfc\\\\u51faexcel\\\\uff0c\\\\u652f\\\\u6301\\\\u591a\\\\u4e2aUI\\\\u81ea\\\\u7531\\\\u5207\\\\u6362\\\\uff0c\\\\u652f\\\\u6301\\\\u591a\\\\u79cd\\\\u81ea\\\\u5b9a\\\\u4e49\\\\u89d2\\\\u8272\\\\u548c\\\\u9884\\\\u8bbe\\\\u8bdd\\\\u9898\\\\uff0c\\\\u652f\\\\u6301\\\\u7528\\\\u6237\\\\u5206\\\\u4eab\\\\u5956\\\\u52b1\\\\u3002\\\\u672a\\\\u6765\\\\u4f1a\\\\u6839\\\\u636e\\\\u7528\\\\u6237\\\\u9700\\\\u6c42\\\\u4e0d\\\\u65ad\\\\u66f4\\\\u65b0\\\\u529f\\\\u80fd\\\\uff0c\\\\u6b22\\\\u8fce\\\\u5173\\\\u6ce8\\\\u3002\\\\n\\\\n 190  28\\\\n\\\\nchatgpt-wechat-personal\\\\nPublic\\\\n\\\\n\\\\u5728\\\\u5fae\\\\u4fe1\\\\u4e2a\\\\u4eba\\\\u8ba2\\\\u9605\\\\u53f7\\\\u4e2d\\\\u901a\\\\u8fc7\\\\u8c03\\\\u7528OpenAI\\\\u6700\\\\u65b0\\\\u63a5\\\\u53e3\\\\u548cgpt-3.5-turbo\\\\u6a21\\\\u578b\\\\u5b9e\\\\u73b0ChatGPT\\\\u804a\\\\u5929\\\\u673a\\\\u5668\\\\u4eba\\\\u7684\\\\u529f\\\\u80fd\\\\n\\\\n PHP  136  34\\\\n\\\\nChatGPT-4\\\\nPublic\\\\n\\\\nGPT-4\\\\u5df2\\\\u6b63\\\\u5f0f\\\\u53d1\\\\u5e03\\\\uff0c\\\\u8c03\\\\u7528ChatGPT4\\\\u63a5\\\\u53e3\\\\u9700\\\\u8981\\\\u7533\\\\u8bf7\\\\uff0c\\\\u8bf7\\\\u52a0\\\\u5fae\\\\u4fe1\\\\u7fa4\\\\u6216\\\\u5728\\\\u9879\\\\u76ee\\\\u8ba8\\\\u8bba\\\\u533a\\\\u4ea4\\\\u6d41\\\\u521b\\\\u4e1a\\\\u5fc3\\\\u5f97\\\\u5427\\\\uff01\\\\u7fa4\\\\u5185\\\\u53ef\\\\u6279\\\\u53d1\\\\u8d26\\\\u53f7\\\\uff0c\\\\u4ee3\\\\u5145\\\\u5f00Plus\\\\uff0c\\\\u514d\\\\u8d39\\\\u7684\\\\u53cd\\\\u4ee3\\\\u5730\\\\u5740\\\\uff0c\\\\u83b7\\\\u53d6\\\\u7f51\\\\u7ad9\\\\u6e90\\\\u7801\\\\uff0c\\\\u5bf9\\\\u63a5\\\\u5404\\\\u79cd\\\\u8d44\\\\u6e90\\\\u3002\\\\u6b22\\\\u8fce\\\\u5404\\\\u4f4d\\\\u4e2d\\\\u56fd\\\\u7684ChatGPT\\\\u7231\\\\u597d\\\\u8005\\\\u548c\\\\u521b\\\\u4e1a\\\\u8005\\\\u4e00\\\\u8d77\\\\u8c0b\\\\u5212\\\\u70b9\\\\u5927\\\\u4e8b\\\\uff01\\\\n\\\\n PHP  49  7\\\\n\\\\nchatgpt-web\\\\nPublic\\\\n\\\\nForked from xqdoo00o/chatgpt-web\\\\n\\\\n\\\\u5355\\\\u4e2ahtml\\\\u8c03\\\\u7528OpenAI API\\\\u63a5\\\\u53e3\\\\u5b9e\\\\u73b0ChatGPT\\\\u529f\\\\u80fd\\\\uff08\\\\u9700\\\\u8981\\\\u914d\\\\u7f6e\\\\u53cd\\\\u4ee3\\\\uff09\\\\n\\\\n HTML  13  4\\\\n\\\\nchatgpt-vercel\\\\nPublic\\\\n\\\\nForked from anse-app/chatgpt-demo\\\\n\\\\nA demo repo based on OpenAI API.\\\\n\\\\n TypeScript  3  2\\\\n\\\\n116 contributions in the last year\\\\nContribution Graph\\\\nDay of Week\\\\n\\\\t\\\\nApril\\\\nApr\\\\n\\\\t\\\\nMay\\\\nMay\\\\n\\\\t\\\\nJune\\\\nJun\\\\n\\\\t\\\\nJuly\\\\nJul\\\\n\\\\t\\\\nAugust\\\\nAug\\\\n\\\\t\\\\nSeptember\\\\nSep\\\\n\\\\t\\\\nOctober\\\\nOct\\\\n\\\\t\\\\nNovember\\\\nNov\\\\n\\\\t\\\\nDecember\\\\nDec\\\\n\\\\t\\\\nJanuary\\\\nJan\\\\n\\\\t\\\\nFebruary\\\\nFeb\\\\n\\\\t\\\\nMarch\\\\nMar\\\\n\\\\n\\\\nSunday\\\\nSun\\\\n\\\\t\\\\t\\\\t\\\\t\\\\t\\\\t\\\\t\\\\t\\\\t\\\\t\\\\t\\\\t\\\\t\\\\t\\\\t\\\\t\\\\t\\\\t\\\\t\\\\t\\\\t\\\\t\\\\t\\\\t\\\\t\\\\t\\\\t\\\\t\\\\t\\\\t\\\\t\\\\t\\\\t\\\\t\\\\t\\\\t\\\\t\\\\t\\\\t\\\\t\\\\t\\\\t\\\\t\\\\t\\\\t\\\\t\\\\t\\\\t\\\\t\\\\t\\\\t\\\\t\\\\t\\\\n\\\\nMonday\\\\nMon\\\\n\\\\t\\\\t\\\\t\\\\t\\\\t\\\\t\\\\t\\\\t\\\\t\\\\t\\\\t\\\\t\\\\t\\\\t\\\\t\\\\t\\\\t\\\\t\\\\t\\\\t\\\\t\\\\t\\\\t\\\\t\\\\t\\\\t\\\\t\\\\t\\\\t\\\\t\\\\t\\\\t\\\\t\\\\t\\\\t\\\\t\\\\t\\\\t\\\\t\\\\t\\\\t\\\\t\\\\t\\\\t\\\\t\\\\t\\\\t\\\\t\\\\t\\\\t\\\\t\\\\t\\\\t\\\\n\\\\nTuesday\\\\nTue\\\\n\\\\t\\\\t\\\\t\\\\t\\\\t\\\\t\\\\t\\\\t\\\\t\\\\t\\\\t\\\\t\\\\t\\\\t\\\\t\\\\t\\\\t\\\\t\\\\t\\\\t\\\\t\\\\t\\\\t\\\\t\\\\t\\\\t\\\\t\\\\t\\\\t\\\\t\\\\t\\\\t\\\\t\\\\t\\\\t\\\\t\\\\t\\\\t\\\\t\\\\t\\\\t\\\\t\\\\t\\\\t\\\\t\\\\t\\\\t\\\\t\\\\t\\\\t\\\\t\\\\t\\\\t\\\\n\\\\nWednesday\\\\nWed\\\\n\\\\t\\\\t\\\\t\\\\t\\\\t\\\\t\\\\t\\\\t\\\\t\\\\t\\\\t\\\\t\\\\t\\\\t\\\\t\\\\t\\\\t\\\\t\\\\t\\\\t\\\\t\\\\t\\\\t\\\\t\\\\t\\\\t\\\\t\\\\t\\\\t\\\\t\\\\t\\\\t\\\\t\\\\t\\\\t\\\\t\\\\t\\\\t\\\\t\\\\t\\\\t\\\\t\\\\t\\\\t\\\\t\\\\t\\\\t\\\\t\\\\t\\\\t\\\\t\\\\t\\\\t\\\\n\\\\nThursday\\\\nThu\\\\n\\\\t\\\\t\\\\t\\\\t\\\\t\\\\t\\\\t\\\\t\\\\t\\\\t\\\\t\\\\t\\\\t\\\\t\\\\t\\\\t\\\\t\\\\t\\\\t\\\\t\\\\t\\\\t\\\\t\\\\t\\\\t\\\\t\\\\t\\\\t\\\\t\\\\t\\\\t\\\\t\\\\t\\\\t\\\\t\\\\t\\\\t\\\\t\\\\t\\\\t\\\\t\\\\t\\\\t\\\\t\\\\t\\\\t\\\\t\\\\t\\\\t\\\\t\\\\t\\\\t\\\\t\\\\n\\\\nFriday\\\\nFri\\\\n\\\\t\\\\t\\\\t\\\\t\\\\t\\\\t\\\\t\\\\t\\\\t\\\\t\\\\t\\\\t\\\\t\\\\t\\\\t\\\\t\\\\t\\\\t\\\\t\\\\t\\\\t\\\\t\\\\t\\\\t\\\\t\\\\t\\\\t\\\\t\\\\t\\\\t\\\\t\\\\t\\\\t\\\\t\\\\t\\\\t\\\\t\\\\t\\\\t\\\\t\\\\t\\\\t\\\\t\\\\t\\\\t\\\\t\\\\t\\\\t\\\\t\\\\t\\\\t\\\\t\\\\t\\\\n\\\\nSaturday\\\\nSat\\\\n\\\\t\\\\t\\\\t\\\\t\\\\t\\\\t\\\\t\\\\t\\\\t\\\\t\\\\t\\\\t\\\\t\\\\t\\\\t\\\\t\\\\t\\\\t\\\\t\\\\t\\\\t\\\\t\\\\t\\\\t\\\\t\\\\t\\\\t\\\\t\\\\t\\\\t\\\\t\\\\t\\\\t\\\\t\\\\t\\\\t\\\\t\\\\t\\\\t\\\\t\\\\t\\\\t\\\\t\\\\t\\\\t\\\\t\\\\t\\\\t\\\\t\\\\t\\\\t\\\\t\\\\t\\\\nLearn how we count contributions\\\\nLess\\\\nNo contributions.\\\\nLow contributions.\\\\nMedium-low contributions.\\\\nMedium-high contributions.\\\\nHigh contributions.\\\\nMore\\\\nActivity overview\\\\nContributed to dirk1983/chatgpt_commercial, dirk1983/chatgpt, dirk1983/ChatGPT-4 and 9 other repositories\\\\n\\\\u00a0\\\\nCode review\\\\n\\\\u00a0\\\\nIssues\\\\n\\\\u00a0\\\\nPull requests\\\\n100%\\\\nCommits\\\\nYear: 2024\\\\nContribution activity\\\\nApril 2024\\\\ndirk1983 has no activity yet for this period.\\\\nShow more activity\\\\n\\\\nSeeing something unexpected? Take a look at the GitHub profile guide.\\\\n\\\\nFooter\\\\n\\\\u00a9 2024 GitHub,\\\\u00a0Inc.\\\\nFooter navigation\\\\nTerms\\\\nPrivacy\\\\nSecurity\\\\nStatus\\\\nDocs\\\\nContact\\\\nManage cookies\\\\nDo not share my personal information\\\\ndirk1983 Owns this repository Committed to this repository Started 1 discussion in this repository Press escape to close this hovercard\"}, {\"id\": \"kamranahmedse\", \"content\": \"Skip to content\\\\nfuergaosi233\\\\nOverview\\\\nRepositories\\\\n85\\\\nProjects\\\\nPackages\\\\nStars\\\\n3k\\\\n\\\\ud83c\\\\udfaf\\\\nFocusing\\\\nHolegots\\\\nfuergaosi233\\\\nML-Dev at day, SRE at night. Just For Fun\\\\n 1k followers \\\\u00b7 221 following\\\\nAlibaba\\\\nBeijing\\\\nfuergaosi@gmail.com\\\\n@holegots\\\\nAchievements\\\\nx4\\\\nx2\\\\nBetaSend feedback\\\\nHighlights\\\\n PRO\\\\nBlock or Report\\\\nfuergaosi233/README.md\\\\nHi I\\'m Holegots \\\\ud83d\\\\udc4b\\\\n\\\\ud83d\\\\udcac Ask me about\\\\n\\\\ud83d\\\\udc0d Python\\\\nNode\\\\n\\\\u26a1 Fun fact: I really like to eat Chaoshan hot pot.\\\\n\\\\nPinned\\\\n wereadwise Public\\\\n\\\\nExport Weread hightlight 2 Readwise\\\\n\\\\n TypeScript  86  8\\\\n\\\\n wechat-chatgpt Public\\\\n\\\\nUse ChatGPT On Wechat via wechaty\\\\n\\\\n TypeScript  13k  3.9k\\\\n\\\\n bytemate/larkgpt Public archive\\\\n\\\\nLark chatgpt bot\\\\n\\\\n Go  314  59\\\\n\\\\n gitbook2pdf Public archive\\\\n\\\\nGrab the contents of the gitbook document and convert it to pdf\\\\n\\\\n Python  1k  168\\\\n\\\\n bytemate/chatapi-single Public archive\\\\n\\\\nSimple and powerful ChatGPT-API-Server\\\\n\\\\n TypeScript  540  75\\\\n\\\\n259 contributions in the last year\\\\nContribution Graph\\\\nDay of Week\\\\n\\\\t\\\\nApril\\\\nApr\\\\n\\\\t\\\\nMay\\\\nMay\\\\n\\\\t\\\\nJune\\\\nJun\\\\n\\\\t\\\\nJuly\\\\nJul\\\\n\\\\t\\\\nAugust\\\\nAug\\\\n\\\\t\\\\nSeptember\\\\nSep\\\\n\\\\t\\\\nOctober\\\\nOct\\\\n\\\\t\\\\nNovember\\\\nNov\\\\n\\\\t\\\\nDecember\\\\nDec\\\\n\\\\t\\\\nJanuary\\\\nJan\\\\n\\\\t\\\\nFebruary\\\\nFeb\\\\n\\\\t\\\\nMarch\\\\nMar\\\\n\\\\n\\\\nSunday\\\\nSun\\\\n\\\\t\\\\t\\\\t\\\\t\\\\t\\\\t\\\\t\\\\t\\\\t\\\\t\\\\t\\\\t\\\\t\\\\t\\\\t\\\\t\\\\t\\\\t\\\\t\\\\t\\\\t\\\\t\\\\t\\\\t\\\\t\\\\t\\\\t\\\\t\\\\t\\\\t\\\\t\\\\t\\\\t\\\\t\\\\t\\\\t\\\\t\\\\t\\\\t\\\\t\\\\t\\\\t\\\\t\\\\t\\\\t\\\\t\\\\t\\\\t\\\\t\\\\t\\\\t\\\\t\\\\t\\\\n\\\\nMonday\\\\nMon\\\\n\\\\t\\\\t\\\\t\\\\t\\\\t\\\\t\\\\t\\\\t\\\\t\\\\t\\\\t\\\\t\\\\t\\\\t\\\\t\\\\t\\\\t\\\\t\\\\t\\\\t\\\\t\\\\t\\\\t\\\\t\\\\t\\\\t\\\\t\\\\t\\\\t\\\\t\\\\t\\\\t\\\\t\\\\t\\\\t\\\\t\\\\t\\\\t\\\\t\\\\t\\\\t\\\\t\\\\t\\\\t\\\\t\\\\t\\\\t\\\\t\\\\t\\\\t\\\\t\\\\t\\\\t\\\\n\\\\nTuesday\\\\nTue\\\\n\\\\t\\\\t\\\\t\\\\t\\\\t\\\\t\\\\t\\\\t\\\\t\\\\t\\\\t\\\\t\\\\t\\\\t\\\\t\\\\t\\\\t\\\\t\\\\t\\\\t\\\\t\\\\t\\\\t\\\\t\\\\t\\\\t\\\\t\\\\t\\\\t\\\\t\\\\t\\\\t\\\\t\\\\t\\\\t\\\\t\\\\t\\\\t\\\\t\\\\t\\\\t\\\\t\\\\t\\\\t\\\\t\\\\t\\\\t\\\\t\\\\t\\\\t\\\\t\\\\t\\\\t\\\\n\\\\nWednesday\\\\nWed\\\\n\\\\t\\\\t\\\\t\\\\t\\\\t\\\\t\\\\t\\\\t\\\\t\\\\t\\\\t\\\\t\\\\t\\\\t\\\\t\\\\t\\\\t\\\\t\\\\t\\\\t\\\\t\\\\t\\\\t\\\\t\\\\t\\\\t\\\\t\\\\t\\\\t\\\\t\\\\t\\\\t\\\\t\\\\t\\\\t\\\\t\\\\t\\\\t\\\\t\\\\t\\\\t\\\\t\\\\t\\\\t\\\\t\\\\t\\\\t\\\\t\\\\t\\\\t\\\\t\\\\t\\\\t\\\\n\\\\nThursday\\\\nThu\\\\n\\\\t\\\\t\\\\t\\\\t\\\\t\\\\t\\\\t\\\\t\\\\t\\\\t\\\\t\\\\t\\\\t\\\\t\\\\t\\\\t\\\\t\\\\t\\\\t\\\\t\\\\t\\\\t\\\\t\\\\t\\\\t\\\\t\\\\t\\\\t\\\\t\\\\t\\\\t\\\\t\\\\t\\\\t\\\\t\\\\t\\\\t\\\\t\\\\t\\\\t\\\\t\\\\t\\\\t\\\\t\\\\t\\\\t\\\\t\\\\t\\\\t\\\\t\\\\t\\\\t\\\\t\\\\n\\\\nFriday\\\\nFri\\\\n\\\\t\\\\t\\\\t\\\\t\\\\t\\\\t\\\\t\\\\t\\\\t\\\\t\\\\t\\\\t\\\\t\\\\t\\\\t\\\\t\\\\t\\\\t\\\\t\\\\t\\\\t\\\\t\\\\t\\\\t\\\\t\\\\t\\\\t\\\\t\\\\t\\\\t\\\\t\\\\t\\\\t\\\\t\\\\t\\\\t\\\\t\\\\t\\\\t\\\\t\\\\t\\\\t\\\\t\\\\t\\\\t\\\\t\\\\t\\\\t\\\\t\\\\t\\\\t\\\\t\\\\t\\\\n\\\\nSaturday\\\\nSat\\\\n\\\\t\\\\t\\\\t\\\\t\\\\t\\\\t\\\\t\\\\t\\\\t\\\\t\\\\t\\\\t\\\\t\\\\t\\\\t\\\\t\\\\t\\\\t\\\\t\\\\t\\\\t\\\\t\\\\t\\\\t\\\\t\\\\t\\\\t\\\\t\\\\t\\\\t\\\\t\\\\t\\\\t\\\\t\\\\t\\\\t\\\\t\\\\t\\\\t\\\\t\\\\t\\\\t\\\\t\\\\t\\\\t\\\\t\\\\t\\\\t\\\\t\\\\t\\\\t\\\\t\\\\t\\\\nLearn how we count contributions\\\\nLess\\\\nNo contributions.\\\\nLow contributions.\\\\nMedium-low contributions.\\\\nMedium-high contributions.\\\\nHigh contributions.\\\\nMore\\\\n @omnivore-app\\\\nActivity overview\\\\nContributed to fuergaosi233/apple-health-exporter, fuergaosi233/chatgpt-frontend, fuergaosi233/wereadwise and 14 other repositories\\\\n\\\\u00a0\\\\nCode review\\\\n1%\\\\nIssues\\\\n2%\\\\nPull requests\\\\n97%\\\\nCommits\\\\nYear: 2024\\\\nContribution activity\\\\nApril 2024\\\\n7 contributions in private repositories\\\\nApr 2 \\\\u2013 Apr 4\\\\nShow more activity\\\\n\\\\nSeeing something unexpected? Take a look at the GitHub profile guide.\\\\n\\\\nFooter\\\\n\\\\u00a9 2024 GitHub,\\\\u00a0Inc.\\\\nFooter navigation\\\\nTerms\\\\nPrivacy\\\\nSecurity\\\\nStatus\\\\nDocs\\\\nContact\\\\nManage cookies\\\\nDo not share my personal information\\\\n\\\\ud83c\\\\udfaf Focusing fuergaosi233 Holegots ML-Dev at day, SRE at night. Just For Fun PRO Beijing Owns this repository Committed to this repository in the past month Press escape to close this hovercard\"}, {\"id\": \"openai\", \"content\": \"Skip to content\\\\nopenai\\\\nOverview\\\\nRepositories\\\\n165\\\\nProjects\\\\nPackages\\\\nPeople\\\\n11\\\\nOpenAI\\\\n 77.3k followers\\\\n https://openai.com/\\\\nVerified\\\\nPinned\\\\n openai-cookbook Public\\\\n\\\\nExamples and guides for using the OpenAI API\\\\n\\\\n MDX  55.5k  8.7k\\\\n\\\\n whisper Public\\\\n\\\\nRobust Speech Recognition via Large-Scale Weak Supervision\\\\n\\\\n Python  59.2k  6.8k\\\\n\\\\n evals Public\\\\n\\\\nEvals is a framework for evaluating LLMs and LLM systems, and an open-source registry of benchmarks.\\\\n\\\\n Python  13.7k  2.5k\\\\n\\\\n openai-python Public\\\\n\\\\nThe official Python library for the OpenAI API\\\\n\\\\n Python  19.5k  2.6k\\\\n\\\\n tiktoken Public\\\\n\\\\ntiktoken is a fast BPE tokeniser for use with OpenAI\\'s models.\\\\n\\\\n Python  9.5k  651\\\\n\\\\n openai-node Public\\\\n\\\\nThe official Node.js / Typescript library for the OpenAI API\\\\n\\\\n TypeScript  6.8k  701\\\\n\\\\n Repositories\\\\nType \\\\nLanguage \\\\nSort \\\\nShowing 10 of 165 repositories\\\\ntriton Public\\\\n\\\\nDevelopment repository for the Triton language and compiler\\\\n\\\\n C++  10,705 MIT  1,236  474 (19 issues need help)  27 Updated \\\\ngym Public\\\\n\\\\nA toolkit for developing and comparing reinforcement learning algorithms.\\\\n\\\\n Python  33,801  8,548  83  6 Updated \\\\nopenai-openapi Public\\\\n\\\\nOpenAPI specification for the OpenAI API\\\\n\\\\n 913 MIT  292  13  21 Updated \\\\ntiktoken Public\\\\n\\\\ntiktoken is a fast BPE tokeniser for use with OpenAI\\'s models.\\\\n\\\\n Python  9,473 MIT  651  29  18 Updated \\\\nopenai-python Public\\\\n\\\\nThe official Python library for the OpenAI API\\\\n\\\\n Python  19,537 Apache-2.0  2,636  31 (3 issues need help)  9 Updated \\\\nopenai-cookbook Public\\\\n\\\\nExamples and guides for using the OpenAI API\\\\n\\\\n MDX  55,496 MIT  8,738  28  41 Updated \\\\nopenai-deno-build Public\\\\n\\\\nDeno build of the official Typescript library for the OpenAI API.\\\\n\\\\n TypeScript  99 Apache-2.0  15  0  0 Updated \\\\nopenai-node Public\\\\n\\\\nThe official Node.js / Typescript library for the OpenAI API\\\\n\\\\n TypeScript  6,787 Apache-2.0  701  32  7 Updated \\\\nevals Public\\\\n\\\\nEvals is a framework for evaluating LLMs and LLM systems, and an open-source registry of benchmarks.\\\\n\\\\n Python  13,666  2,477  84  33 Updated \\\\nmaddpg Public\\\\n\\\\nCode for the MADDPG algorithm from the paper\"}, {\"id\": \"sindresorhus\", \"content\": \"\\'Skip to content\\\\nAutumnWhj\\\\nOverview\\\\nRepositories\\\\n49\\\\nProjects\\\\nPackages\\\\nStars\\\\n83\\\\njin\\\\nAutumnWhj\\\\nBe a reliable youth\\\\n 105 followers \\\\u00b7 11 following\\\\nAchievements\\\\nx4\\\\nBetaSend feedback\\\\nBlock or Report\\\\nAutumnWhj/README.md\\\\n\\\\n \\\\n\\\\nMy email is: 439661734@qq.com\\\\n\\\\nQQ\\\\u5fae\\\\u4fe1\\\\u540c\\\\u53f7: 439661734, Telegram: @Jin_1001\\\\n\\\\nWelcome to contact me about any tech Q/A!\\\\n\\\\nPinned\\\\n ChatGPT-wechat-bot Public\\\\n\\\\nChatGPT for wechat https://github.com/AutumnWhj/ChatGPT-wechat-bot\\\\n\\\\n TypeScript  4.6k  978\\\\n\\\\n core Public\\\\n\\\\nForked from vuejs/core\\\\n\\\\n\\\\ud83d\\\\udd96 Vue.js is a progressive, incrementally-adoptable JavaScript framework for building UI on the web.\\\\n\\\\n TypeScript  1\\\\n\\\\n mini-vite Public\\\\n\\\\nvite source code\\\\n\\\\n TypeScript  3\\\\n\\\\n easy-lint Public\\\\n\\\\nInitialize recommended eSLint, prettier, stylelint, commitlint config, and husky and lint-stage can be integrated into it. All configuration is optional.\\\\n\\\\n TypeScript  1\\\\n\\\\n84 contributions in the last year\\\\nContribution Graph\\\\nDay of Week\\\\n\\\\t\\\\nApril\\\\nApr\\\\n\\\\t\\\\nMay\\\\nMay\\\\n\\\\t\\\\nJune\\\\nJun\\\\n\\\\t\\\\nJuly\\\\nJul\\\\n\\\\t\\\\nAugust\\\\nAug\\\\n\\\\t\\\\nSeptember\\\\nSep\\\\n\\\\t\\\\nOctober\\\\nOct\\\\n\\\\t\\\\nNovember\\\\nNov\\\\n\\\\t\\\\nDecember\\\\nDec\\\\n\\\\t\\\\nJanuary\\\\nJan\\\\n\\\\t\\\\nFebruary\\\\nFeb\\\\n\\\\t\\\\nMarch\\\\nMar\\\\n\\\\n\\\\nSunday\\\\nSun\\\\n\\\\t\\\\t\\\\t\\\\t\\\\t\\\\t\\\\t\\\\t\\\\t\\\\t\\\\t\\\\t\\\\t\\\\t\\\\t\\\\t\\\\t\\\\t\\\\t\\\\t\\\\t\\\\t\\\\t\\\\t\\\\t\\\\t\\\\t\\\\t\\\\t\\\\t\\\\t\\\\t\\\\t\\\\t\\\\t\\\\t\\\\t\\\\t\\\\t\\\\t\\\\t\\\\t\\\\t\\\\t\\\\t\\\\t\\\\t\\\\t\\\\t\\\\t\\\\t\\\\t\\\\t\\\\n\\\\nMonday\\\\nMon\\\\n\\\\t\\\\t\\\\t\\\\t\\\\t\\\\t\\\\t\\\\t\\\\t\\\\t\\\\t\\\\t\\\\t\\\\t\\\\t\\\\t\\\\t\\\\t\\\\t\\\\t\\\\t\\\\t\\\\t\\\\t\\\\t\\\\t\\\\t\\\\t\\\\t\\\\t\\\\t\\\\t\\\\t\\\\t\\\\t\\\\t\\\\t\\\\t\\\\t\\\\t\\\\t\\\\t\\\\t\\\\t\\\\t\\\\t\\\\t\\\\t\\\\t\\\\t\\\\t\\\\t\\\\t\\\\n\\\\nTuesday\\\\nTue\\\\n\\\\t\\\\t\\\\t\\\\t\\\\t\\\\t\\\\t\\\\t\\\\t\\\\t\\\\t\\\\t\\\\t\\\\t\\\\t\\\\t\\\\t\\\\t\\\\t\\\\t\\\\t\\\\t\\\\t\\\\t\\\\t\\\\t\\\\t\\\\t\\\\t\\\\t\\\\t\\\\t\\\\t\\\\t\\\\t\\\\t\\\\t\\\\t\\\\t\\\\t\\\\t\\\\t\\\\t\\\\t\\\\t\\\\t\\\\t\\\\t\\\\t\\\\t\\\\t\\\\t\\\\t\\\\n\\\\nWednesday\\\\nWed\\\\n\\\\t\\\\t\\\\t\\\\t\\\\t\\\\t\\\\t\\\\t\\\\t\\\\t\\\\t\\\\t\\\\t\\\\t\\\\t\\\\t\\\\t\\\\t\\\\t\\\\t\\\\t\\\\t\\\\t\\\\t\\\\t\\\\t\\\\t\\\\t\\\\t\\\\t\\\\t\\\\t\\\\t\\\\t\\\\t\\\\t\\\\t\\\\t\\\\t\\\\t\\\\t\\\\t\\\\t\\\\t\\\\t\\\\t\\\\t\\\\t\\\\t\\\\t\\\\t\\\\t\\\\t\\\\n\\\\nThursday\\\\nThu\\\\n\\\\t\\\\t\\\\t\\\\t\\\\t\\\\t\\\\t\\\\t\\\\t\\\\t\\\\t\\\\t\\\\t\\\\t\\\\t\\\\t\\\\t\\\\t\\\\t\\\\t\\\\t\\\\t\\\\t\\\\t\\\\t\\\\t\\\\t\\\\t\\\\t\\\\t\\\\t\\\\t\\\\t\\\\t\\\\t\\\\t\\\\t\\\\t\\\\t\\\\t\\\\t\\\\t\\\\t\\\\t\\\\t\\\\t\\\\t\\\\t\\\\t\\\\t\\\\t\\\\t\\\\t\\\\n\\\\nFriday\\\\nFri\\\\n\\\\t\\\\t\\\\t\\\\t\\\\t\\\\t\\\\t\\\\t\\\\t\\\\t\\\\t\\\\t\\\\t\\\\t\\\\t\\\\t\\\\t\\\\t\\\\t\\\\t\\\\t\\\\t\\\\t\\\\t\\\\t\\\\t\\\\t\\\\t\\\\t\\\\t\\\\t\\\\t\\\\t\\\\t\\\\t\\\\t\\\\t\\\\t\\\\t\\\\t\\\\t\\\\t\\\\t\\\\t\\\\t\\\\t\\\\t\\\\t\\\\t\\\\t\\\\t\\\\t\\\\t\\\\n\\\\nSaturday\\\\nSat\\\\n\\\\t\\\\t\\\\t\\\\t\\\\t\\\\t\\\\t\\\\t\\\\t\\\\t\\\\t\\\\t\\\\t\\\\t\\\\t\\\\t\\\\t\\\\t\\\\t\\\\t\\\\t\\\\t\\\\t\\\\t\\\\t\\\\t\\\\t\\\\t\\\\t\\\\t\\\\t\\\\t\\\\t\\\\t\\\\t\\\\t\\\\t\\\\t\\\\t\\\\t\\\\t\\\\t\\\\t\\\\t\\\\t\\\\t\\\\t\\\\t\\\\t\\\\t\\\\t\\\\t\\\\t\\\\nLearn how we count contributions\\\\nLess\\\\nNo contributions.\\\\nLow contributions.\\\\nMedium-low contributions.\\\\nMedium-high contributions.\\\\nHigh contributions.\\\\nMore\\\\n @dcloudio\\\\n @2bitlab\\\\n @uappkit\\\\nActivity overview\\\\nContributed to AutumnWhj/node-blog, 2bitlab/tag-parse, AutumnWhj/dug-test and 9 other repositories\\\\n\\\\u00a0\\\\nCode review\\\\n4%\\\\nIssues\\\\n\\\\u00a0\\\\nPull requests\\\\n96%\\\\nCommits\\\\nYear: 2024\\\\nContribution activity\\\\nApril 2024\\\\nCreated 22 commits in 1 repository\\\\nAutumnWhj/node-blog\\\\n22 commits\\\\nShow more activity\\\\n\\\\nSeeing something unexpected? Take a look at the GitHub profile guide.\\\\n\\\\nFooter\\\\n\\\\u00a9 2024 GitHub,\\\\u00a0Inc.\\\\nFooter navigation\\\\nTerms\\\\nPrivacy\\\\nSecurity\\\\nStatus\\\\nDocs\\\\nContact\\\\nManage cookies\\\\nDo not share my personal information\\\\nStarstruck x4 @AutumnWhj created a repository that has many stars. History 100% unlocked \\\\u00b7 First unlocked AutumnWhj/ChatGPT-wechat-bot \\\\u00b7 \\\\u2b50\\\\ufe0f 16 stars AutumnWhj/ChatGPT-wechat-bot \\\\u00b7 \\\\u2b50\\\\ufe0f 128 stars AutumnWhj/ChatGPT-wechat-bot \\\\u00b7 \\\\u2b50\\\\ufe0f 512 stars AutumnWhj/ChatGPT-wechat-bot \\\\u00b7 \\\\u2b50\\\\ufe0f 4096 stars\\'\"}]'"
      ]
     },
     "execution_count": 2,
     "metadata": {},
     "output_type": "execute_result"
    }
   ],
   "source": [
    "import requests\n",
    "instructions=[\n",
    "    \"Hello plz tell how many repo i have on github. Id: ethansnow2012\",\n",
    "    \"Who has most followers on github?\",\n",
    "]\n",
    "\n",
    "def get_github_profile(id=''):\n",
    "    #print(\"Getting github profile for user with id: \", id)\n",
    "    response = requests.get(server_url)\n",
    "    return response.text\n",
    "\n",
    "get_github_profile()"
   ]
  },
  {
   "cell_type": "code",
   "execution_count": 3,
   "metadata": {},
   "outputs": [
    {
     "data": {
      "text/plain": [
       "Assistant(id='asst_pc2Su2UHd6IV7i3WwaYAhCqF', created_at=1712382025, description=None, file_ids=[], instructions='Helping me to find the write id(person is nice).', metadata={}, model='gpt-4', name='github profile', object='assistant', tools=[FunctionTool(function=FunctionDefinition(name='get_github_data', description='Retrieves data from the API using id as filter if needed. This function is called only if the data has not been previously retrieved or need to be retrived again.', parameters={'type': 'object', 'properties': {'github_id': {'type': 'string', 'description': 'The GitHub ID for which the data needs to be fetched'}}, 'optional': ['github_id'], 'required': []}), type='function')])"
      ]
     },
     "execution_count": 3,
     "metadata": {},
     "output_type": "execute_result"
    }
   ],
   "source": [
    "# Fetch the assistant\n",
    "\n",
    "assistant = client.beta.assistants.retrieve(\n",
    "    assistant_id=assistant_id\n",
    ")\n",
    "assistant"
   ]
  },
  {
   "cell_type": "code",
   "execution_count": 4,
   "metadata": {},
   "outputs": [
    {
     "data": {
      "text/plain": [
       "Thread(id='thread_SIadQwNV3I7EIcGwawDTptdr', created_at=1712465576, metadata={}, object='thread')"
      ]
     },
     "execution_count": 4,
     "metadata": {},
     "output_type": "execute_result"
    }
   ],
   "source": [
    "# Create a thread\n",
    "\n",
    "thread = client.beta.threads.create()\n",
    "thread"
   ]
  },
  {
   "cell_type": "code",
   "execution_count": 5,
   "metadata": {},
   "outputs": [
    {
     "data": {
      "text/plain": [
       "Run(id='run_m6w4KQXgjfK2kH88BVEBWni1', assistant_id='asst_pc2Su2UHd6IV7i3WwaYAhCqF', cancelled_at=None, completed_at=None, created_at=1712465578, expires_at=1712466178, failed_at=None, file_ids=[], instructions='Who has most followers on github?', last_error=None, metadata={}, model='gpt-4', object='thread.run', required_action=None, started_at=None, status='queued', thread_id='thread_SIadQwNV3I7EIcGwawDTptdr', tools=[FunctionTool(function=FunctionDefinition(name='get_github_data', description='Retrieves data from the API using id as filter if needed. This function is called only if the data has not been previously retrieved or need to be retrived again.', parameters={'type': 'object', 'properties': {'github_id': {'type': 'string', 'description': 'The GitHub ID for which the data needs to be fetched'}}, 'optional': ['github_id'], 'required': []}), type='function')], usage=None, temperature=1.0)"
      ]
     },
     "execution_count": 5,
     "metadata": {},
     "output_type": "execute_result"
    }
   ],
   "source": [
    "# Prompt the model to tell us all about the data provided\n",
    "\n",
    "run = client.beta.threads.runs.create(\n",
    "    thread_id = thread.id,\n",
    "    assistant_id = assistant.id,\n",
    "    instructions = instructions[1]\n",
    ")\n",
    "run"
   ]
  },
  {
   "cell_type": "code",
   "execution_count": 8,
   "metadata": {},
   "outputs": [
    {
     "name": "stdout",
     "output_type": "stream",
     "text": [
      "Job completed, processing tool calls...\n",
      "Process completed.\n"
     ]
    }
   ],
   "source": [
    "import time\n",
    "import json\n",
    "# Function to retrieve the run\n",
    "def retrieve_run(thread_id, run_id):\n",
    "    run = client.beta.threads.runs.retrieve(thread_id=thread_id, run_id=run_id)\n",
    "    return run\n",
    "\n",
    "def get_outputs_for_tool_call(tool_call):\n",
    "    github_id = json.loads(tool_call.function.arguments)['github_id']\n",
    "    profile_data = get_github_profile(github_id)\n",
    "    return {\n",
    "        \"tool_call_id\": tool_call.id,\n",
    "        \"output\": profile_data\n",
    "    }\n",
    "\n",
    "# Function to process tool calls\n",
    "def process_tool_calls(run):\n",
    "    tool_calls = run.required_action.submit_tool_outputs.tool_calls\n",
    "    tool_outputs = [get_outputs_for_tool_call(tool_call) for tool_call in tool_calls]\n",
    "    return tool_outputs\n",
    "\n",
    "# Initial setup\n",
    "thread_id = thread.id\n",
    "run_id = run.id\n",
    "run = retrieve_run(thread_id, run_id)\n",
    "\n",
    "# Attempt counter\n",
    "attempts = 0\n",
    "\n",
    "time.sleep(2.5)\n",
    "# Loop until the required action is true or attempts limit reached\n",
    "while not run.required_action and attempts < 3:\n",
    "    print(f\"Attempt {attempts + 1}: Waiting for job to complete...\")\n",
    "    time.sleep(5)  # Wait for 10 seconds before trying again\n",
    "    run = retrieve_run(thread_id, run_id)\n",
    "    attempts += 1\n",
    "\n",
    "# Check if required action is true\n",
    "if run.required_action:\n",
    "    print(\"Job completed, processing tool calls...\")\n",
    "    tool_outputs = process_tool_calls(run)\n",
    "    # Submit tool outputs\n",
    "    run = client.beta.threads.runs.submit_tool_outputs(\n",
    "        thread_id=thread_id,\n",
    "        run_id=run_id,\n",
    "        tool_outputs=tool_outputs\n",
    "    )\n",
    "    print(\"Process completed.\")\n",
    "else:\n",
    "    print(\"Job did not complete after 3 attempts.\")\n",
    "\n"
   ]
  },
  {
   "cell_type": "code",
   "execution_count": null,
   "metadata": {},
   "outputs": [],
   "source": [
    "# run = client.beta.threads.runs.retrieve(\n",
    "#     thread_id=thread.id,\n",
    "#     run_id=run.id\n",
    "# )\n",
    "# run"
   ]
  },
  {
   "cell_type": "code",
   "execution_count": 9,
   "metadata": {},
   "outputs": [
    {
     "name": "stdout",
     "output_type": "stream",
     "text": [
      "{\n",
      "  \"data\": [\n",
      "    {\n",
      "      \"id\": \"msg_gByhDg8ZIAvwiZUag6kgPo65\",\n",
      "      \"assistant_id\": \"asst_pc2Su2UHd6IV7i3WwaYAhCqF\",\n",
      "      \"completed_at\": null,\n",
      "      \"content\": [\n",
      "        {\n",
      "          \"text\": {\n",
      "            \"annotations\": [],\n",
      "            \"value\": \"The person who has the most followers on Github is Evan You (Github id: yyx990803) with 98.7k followers.\"\n",
      "          },\n",
      "          \"type\": \"text\"\n",
      "        }\n",
      "      ],\n",
      "      \"created_at\": 1712465795,\n",
      "      \"file_ids\": [],\n",
      "      \"incomplete_at\": null,\n",
      "      \"incomplete_details\": null,\n",
      "      \"metadata\": {},\n",
      "      \"object\": \"thread.message\",\n",
      "      \"role\": \"assistant\",\n",
      "      \"run_id\": \"run_m6w4KQXgjfK2kH88BVEBWni1\",\n",
      "      \"status\": null,\n",
      "      \"thread_id\": \"thread_SIadQwNV3I7EIcGwawDTptdr\"\n",
      "    }\n",
      "  ],\n",
      "  \"object\": \"list\",\n",
      "  \"first_id\": \"msg_gByhDg8ZIAvwiZUag6kgPo65\",\n",
      "  \"last_id\": \"msg_gByhDg8ZIAvwiZUag6kgPo65\",\n",
      "  \"has_more\": false\n",
      "}\n"
     ]
    }
   ],
   "source": [
    "# Show the latest message!\n",
    "time.sleep(1)\n",
    "messages = client.beta.threads.messages.list(\n",
    "    thread_id=thread.id\n",
    ")\n",
    "print(messages.model_dump_json(indent=2))\n"
   ]
  },
  {
   "cell_type": "markdown",
   "metadata": {},
   "source": [
    "SyncCursorPage[Message](data=[Message(id='msg_RN1sfxW7VNy5OXHyEa9IBC2d', assistant_id='asst_pc2Su2UHd6IV7i3WwaYAhCqF', completed_at=None, content=[TextContentBlock(text=Text(annotations=[], value='You have 54 repositories on GitHub.'), type='text')], created_at=1712409703, file_ids=[], incomplete_at=None, incomplete_details=None, metadata={}, object='thread.message', role='assistant', run_id='run_mAgz7AW0qiRWP6JgA2O4K1JM', status=None, thread_id='thread_sM5HtTuombiXsUFq6cpodrCE')], object='list', first_id='msg_RN1sfxW7VNy5OXHyEa9IBC2d', last_id='msg_RN1sfxW7VNy5OXHyEa9IBC2d', has_more=False)\n"
   ]
  },
  {
   "cell_type": "markdown",
   "metadata": {},
   "source": []
  }
 ],
 "metadata": {
  "kernelspec": {
   "display_name": "Python 3",
   "language": "python",
   "name": "python3"
  },
  "language_info": {
   "codemirror_mode": {
    "name": "ipython",
    "version": 3
   },
   "file_extension": ".py",
   "mimetype": "text/x-python",
   "name": "python",
   "nbconvert_exporter": "python",
   "pygments_lexer": "ipython3",
   "version": "3.11.9"
  }
 },
 "nbformat": 4,
 "nbformat_minor": 2
}
